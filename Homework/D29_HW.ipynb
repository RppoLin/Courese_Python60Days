{
 "cells": [
  {
   "cell_type": "markdown",
   "metadata": {
    "id": "H-z4L8J371GO"
   },
   "source": [
    "## 作業:\n",
    "今天學到不同統計量之間特性，  \n",
    "試著分析男生女生身高資料，  \n",
    "試著回答下面的問題:  \n",
    "Q1:試著用今天所教的內容，如何描述這兩組資料的樣態?    \n",
    "Q2: 請問男生和女生在平均身高上誰比較高?   \n",
    "Q3:請問第二題的答案和日常生活中觀察的一致嗎? 如果不一致，你覺得原因可能為何?    \n",
    "上述問題透過  python 語法進行運算，\n",
    "並將上述答案填寫在 (google 表單)[https://docs.google.com/forms/d/e/1FAIpQLSdDzwpeJl8YLPwZaW8pBZvtuXY9kIbbZLqxcXyzFaoraV5JEA/viewform ]\n",
    "![](作業資料圖檔.PNG)"
   ]
  },
  {
   "cell_type": "code",
   "execution_count": 2,
   "metadata": {
    "id": "yz28_IgkYdBW"
   },
   "outputs": [],
   "source": [
    "# library\n",
    "import matplotlib.pyplot as plt\n",
    "import numpy as np\n",
    "import pandas as pd\n",
    "from scipy import stats\n",
    "import math\n",
    "import statistics\n",
    "import seaborn as sns"
   ]
  },
  {
   "cell_type": "code",
   "execution_count": 3,
   "metadata": {
    "id": "3NtzuWtt71GU",
    "outputId": "be21c4eb-a6c2-4674-aadd-d378bafc0428"
   },
   "outputs": [],
   "source": [
    "## 輸入資料\n",
    "\n",
    "boys = [164, 176, 169, 169, 165, 175, 159, 151, 144, 160, 183, 165, 156, 170,\n",
    " 164, 173, 165, 163, 177, 171]\n",
    "girls = [169, 183, 170, 168, 182, 170, 173, 185, 151, 156, 162, 169, 162, 181, 159, 154, 167, 170, 175, 160]"
   ]
  },
  {
   "cell_type": "code",
   "execution_count": 9,
   "metadata": {
    "id": "uDM9AzrY71GW",
    "outputId": "f4e7ede3-fda9-4858-f122-af7c3b3f3ad4"
   },
   "outputs": [
    {
     "name": "stdout",
     "output_type": "stream",
     "text": [
      "boys max :  183 , min :  144\n",
      "boys mean :  165.95\n",
      "boys median :  165.0\n",
      "boys mode :  ModeResult(mode=array([165]), count=array([3]))\n",
      "boys range :  39\n",
      "boys variance :  84.89210526315789\n",
      "boys std_dev :  9.213691185575838\n",
      "boys skew :  -0.47132127317376954\n",
      "boys kurtosis :  0.19395882957876331\n",
      "======================================\n",
      "girls max :  185 , min :  151\n",
      "girls mean :  168.3\n",
      "girls median :  169.0\n",
      "girls mode :  ModeResult(mode=array([170]), count=array([3]))\n",
      "girls range :  34\n",
      "girls variance :  95.37894736842105\n",
      "girls std_dev :  9.766214587465353\n",
      "girls skew :  0.05985321129365068\n",
      "girls kurtosis :  -0.8203607083948947\n"
     ]
    }
   ],
   "source": [
    "def rangeV(X):\n",
    "    return (max(X) - min(X))\n",
    "\n",
    "\n",
    "\n",
    "#Q1:試著用今天所教的內容，如何描述這兩組資料的樣態?\n",
    "#暗示:  分別計算男生和女生的統計量\n",
    "print('boys max : ', max(boys), ', min : ', min(boys))\n",
    "print('boys mean : ', statistics.mean(boys))\n",
    "print('boys median : ', statistics.median(boys))\n",
    "print('boys mode : ', stats.mode(boys))\n",
    "print('boys range : ', rangeV(boys))\n",
    "print('boys variance : ', statistics.variance(boys))\n",
    "print('boys std_dev : ', statistics.stdev(boys))\n",
    "print('boys skew : ', stats.skew(boys))\n",
    "print('boys kurtosis : ', stats.kurtosis(boys))\n",
    "print('======================================')\n",
    "print('girls max : ', max(girls), ', min : ', min(girls))\n",
    "print('girls mean : ', statistics.mean(girls))\n",
    "print('girls median : ', statistics.median(girls))\n",
    "print('girls mode : ', stats.mode(girls))\n",
    "print('girls range : ', rangeV(girls))\n",
    "print('girls variance : ', statistics.variance(girls))\n",
    "print('girls std_dev : ', statistics.stdev(girls))\n",
    "print('girls skew : ', stats.skew(girls))\n",
    "print('girls kurtosis : ', stats.kurtosis(girls))\n"
   ]
  },
  {
   "cell_type": "code",
   "execution_count": null,
   "metadata": {
    "id": "xH_GNsC271GW",
    "outputId": "f4b4c46a-0d8b-421c-9c70-0ebf2aab0e31"
   },
   "outputs": [
    {
     "data": {
      "text/plain": [
       "'\\n你的答案\\n'"
      ]
     },
     "execution_count": 4,
     "metadata": {
      "tags": []
     },
     "output_type": "execute_result"
    }
   ],
   "source": [
    "#Q2: 請問男生和女生在平均身高上誰比較高? \n",
    "print('女生平均身高較高')"
   ]
  },
  {
   "cell_type": "code",
   "execution_count": null,
   "metadata": {
    "id": "xAzZU0Dv71GX",
    "outputId": "e2017c09-70fc-41ab-99c0-9d41fe21629d"
   },
   "outputs": [
    {
     "data": {
      "text/plain": [
       "'\\n你的答案\\n'"
      ]
     },
     "execution_count": 5,
     "metadata": {
      "tags": []
     },
     "output_type": "execute_result"
    }
   ],
   "source": [
    "#Q3:請問第二題的答案和日常生活中觀察的一致嗎? 如果不一致，你覺得原因可能為何? \n",
    "'''\n",
    "男生資料峰度值大且skew < 0，表示可能存在較小極端值而將平均拉低 "
   ]
  }
 ],
 "metadata": {
  "colab": {
   "collapsed_sections": [],
   "name": "作業.ipynb",
   "provenance": []
  },
  "kernelspec": {
   "display_name": "Python 3",
   "language": "python",
   "name": "python3"
  },
  "language_info": {
   "codemirror_mode": {
    "name": "ipython",
    "version": 3
   },
   "file_extension": ".py",
   "mimetype": "text/x-python",
   "name": "python",
   "nbconvert_exporter": "python",
   "pygments_lexer": "ipython3",
   "version": "3.8.5"
  }
 },
 "nbformat": 4,
 "nbformat_minor": 1
}
