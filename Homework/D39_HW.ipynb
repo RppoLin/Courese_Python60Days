{
 "cells": [
  {
   "cell_type": "markdown",
   "metadata": {},
   "source": [
    "## 作業\n",
    "在鐵達尼資料集中，   \n",
    "可以用今天範例中提到的三種辨識異常值的方法，  \n",
    "以 training data 為資料集。  \n",
    "1.觀察票價是否有異常值的現象?  \n",
    "2.你覺得找出的異常是真的異常? 你覺得需要做處理嗎?  \n",
    "(試著講出自己的想法。)  \n"
   ]
  },
  {
   "cell_type": "markdown",
   "metadata": {
    "colab_type": "text",
    "id": "Z9YHBcEGYdBV"
   },
   "source": [
    "### 資料\n",
    "鐵達尼號 train 資料集\n"
   ]
  },
  {
   "cell_type": "code",
   "execution_count": 2,
   "metadata": {
    "colab": {
     "base_uri": "https://localhost:8080/",
     "height": 34
    },
    "colab_type": "code",
    "executionInfo": {
     "elapsed": 1558,
     "status": "ok",
     "timestamp": 1578021044012,
     "user": {
      "displayName": "Mora chen",
      "photoUrl": "https://lh3.googleusercontent.com/a-/AAuE7mB40f7sDArbZ5_DYq02nNcnLD0Ryaf7AhsASSQeLQ=s64",
      "userId": "03171203089166907199"
     },
     "user_tz": -480
    },
    "id": "yz28_IgkYdBW",
    "outputId": "a12f486c-18b3-4fb5-d06c-f162aebd9444"
   },
   "outputs": [],
   "source": [
    "# library\n",
    "import matplotlib.pyplot as plt\n",
    "import numpy as np\n",
    "import pandas as pd\n",
    "import seaborn  as sns\n",
    "from scipy import stats\n",
    "import math\n",
    "import statistics\n",
    "#讓圖可以在 jupyter notebook顯示\n",
    "%matplotlib inline"
   ]
  },
  {
   "cell_type": "code",
   "execution_count": 3,
   "metadata": {},
   "outputs": [],
   "source": [
    "df_train = pd.read_csv(\"Titanic_train.csv\")"
   ]
  },
  {
   "cell_type": "markdown",
   "metadata": {},
   "source": [
    "### 探索性分析:\n",
    "*  觀察-是否有異常值  \n",
    "我們來觀察一下 Fare 變數吧!!"
   ]
  },
  {
   "cell_type": "markdown",
   "metadata": {},
   "source": [
    "## Q1:觀察票價是否有異常值的現象?"
   ]
  },
  {
   "cell_type": "markdown",
   "metadata": {},
   "source": [
    "## 方法1\n",
    "* 進行一個描述性的統計（規定範圍），從而檢視哪些值是不合理的（範圍以外的值）。  \n"
   ]
  },
  {
   "cell_type": "code",
   "execution_count": 4,
   "metadata": {},
   "outputs": [
    {
     "data": {
      "text/plain": [
       "count    891.000000\n",
       "mean      32.204208\n",
       "std       49.693429\n",
       "min        0.000000\n",
       "25%        7.910400\n",
       "50%       14.454200\n",
       "75%       31.000000\n",
       "max      512.329200\n",
       "Name: Fare, dtype: float64"
      ]
     },
     "execution_count": 4,
     "metadata": {},
     "output_type": "execute_result"
    }
   ],
   "source": [
    "df_train[\"Fare\"].describe()\n"
   ]
  },
  {
   "cell_type": "markdown",
   "metadata": {},
   "source": [
    "## 方法 2\n",
    "* 進行3倍標準差原則的計算，從而檢視哪些值是可疑的異常值。  \n"
   ]
  },
  {
   "cell_type": "code",
   "execution_count": 18,
   "metadata": {},
   "outputs": [
    {
     "name": "stdout",
     "output_type": "stream",
     "text": [
      "     PassengerId                                               Name      Fare  \\\n",
      "27            28                     Fortune, Mr. Charles Alexander  263.0000   \n",
      "88            89                         Fortune, Miss. Mabel Helen  263.0000   \n",
      "118          119                           Baxter, Mr. Quigg Edmond  247.5208   \n",
      "258          259                                   Ward, Miss. Anna  512.3292   \n",
      "299          300    Baxter, Mrs. James (Helene DeLaudeniere Chaput)  247.5208   \n",
      "311          312                         Ryerson, Miss. Emily Borie  262.3750   \n",
      "341          342                     Fortune, Miss. Alice Elizabeth  263.0000   \n",
      "377          378                          Widener, Mr. Harry Elkins  211.5000   \n",
      "380          381                              Bidois, Miss. Rosalie  227.5250   \n",
      "438          439                                  Fortune, Mr. Mark  263.0000   \n",
      "527          528                                 Farthing, Mr. John  221.7792   \n",
      "557          558                                Robbins, Mr. Victor  227.5250   \n",
      "679          680                 Cardeza, Mr. Thomas Drake Martinez  512.3292   \n",
      "689          690                  Madill, Miss. Georgette Alexandra  211.3375   \n",
      "700          701  Astor, Mrs. John Jacob (Madeleine Talmadge Force)  227.5250   \n",
      "716          717                      Endres, Miss. Caroline Louise  227.5250   \n",
      "730          731                      Allen, Miss. Elisabeth Walton  211.3375   \n",
      "737          738                             Lesurer, Mr. Gustave J  512.3292   \n",
      "742          743              Ryerson, Miss. Susan Parker \"Suzette\"  262.3750   \n",
      "779          780  Robert, Mrs. Edward Scott (Elisabeth Walton Mc...  211.3375   \n",
      "\n",
      "               Cabin  \n",
      "27       C23 C25 C27  \n",
      "88       C23 C25 C27  \n",
      "118          B58 B60  \n",
      "258              NaN  \n",
      "299          B58 B60  \n",
      "311  B57 B59 B63 B66  \n",
      "341      C23 C25 C27  \n",
      "377              C82  \n",
      "380              NaN  \n",
      "438      C23 C25 C27  \n",
      "527              C95  \n",
      "557              NaN  \n",
      "679      B51 B53 B55  \n",
      "689               B5  \n",
      "700          C62 C64  \n",
      "716              C45  \n",
      "730               B5  \n",
      "737             B101  \n",
      "742  B57 B59 B63 B66  \n",
      "779               B3  \n"
     ]
    }
   ],
   "source": [
    "def outliers_z_score(ys,times):\n",
    "    mean_y = np.mean(ys)\n",
    "    stdev_y = np.std(ys)\n",
    "    z_scores = [(y - mean_y) / stdev_y for y in ys]\n",
    "    return np.where(np.abs(z_scores) > times)\n",
    "\n",
    "z_outlier = outliers_z_score(df_train[\"Fare\"], 3)\n",
    "#print(z_outlier[0])\n",
    "print(df_train.loc[z_outlier[0], [\"PassengerId\", \"Name\", \"Fare\", \"Cabin\"]])"
   ]
  },
  {
   "cell_type": "markdown",
   "metadata": {},
   "source": [
    "## 方法3-盒鬚圖判別法(IQR method)"
   ]
  },
  {
   "cell_type": "code",
   "execution_count": 19,
   "metadata": {},
   "outputs": [
    {
     "name": "stdout",
     "output_type": "stream",
     "text": [
      "     PassengerId                                               Name      Fare  \\\n",
      "1              2  Cumings, Mrs. John Bradley (Florence Briggs Th...   71.2833   \n",
      "27            28                     Fortune, Mr. Charles Alexander  263.0000   \n",
      "31            32     Spencer, Mrs. William Augustus (Marie Eugenie)  146.5208   \n",
      "34            35                            Meyer, Mr. Edgar Joseph   82.1708   \n",
      "52            53           Harper, Mrs. Henry Sleeper (Myna Haxtun)   76.7292   \n",
      "..           ...                                                ...       ...   \n",
      "846          847                           Sage, Mr. Douglas Bullen   69.5500   \n",
      "849          850       Goldenberg, Mrs. Samuel L (Edwiga Grabowska)   89.1042   \n",
      "856          857         Wick, Mrs. George Dennick (Mary Hitchcock)  164.8667   \n",
      "863          864                  Sage, Miss. Dorothy Edith \"Dolly\"   69.5500   \n",
      "879          880      Potter, Mrs. Thomas Jr (Lily Alexenia Wilson)   83.1583   \n",
      "\n",
      "           Cabin  \n",
      "1            C85  \n",
      "27   C23 C25 C27  \n",
      "31           B78  \n",
      "34           NaN  \n",
      "52           D33  \n",
      "..           ...  \n",
      "846          NaN  \n",
      "849          C92  \n",
      "856          NaN  \n",
      "863          NaN  \n",
      "879          C50  \n",
      "\n",
      "[116 rows x 4 columns]\n"
     ]
    }
   ],
   "source": [
    "def outliers_box(ys, times):\n",
    "    quartile_1, quartile_3 = np.nanpercentile(ys, [25, 75])\n",
    "    iqr = quartile_3 - quartile_1\n",
    "    lower_bound = quartile_1 - (iqr * times)\n",
    "    upper_bound = quartile_3 + (iqr * times)\n",
    "    return np.where((ys > upper_bound) | (ys < lower_bound))\n",
    "\n",
    "box_outlier = outliers_box(df_train[\"Fare\"], 1.5)\n",
    "print(df_train.loc[box_outlier[0], [\"PassengerId\", \"Name\", \"Fare\", \"Cabin\"]])\n"
   ]
  },
  {
   "cell_type": "markdown",
   "metadata": {},
   "source": [
    "## Q2:你覺得找出的異常是真的異常? 你覺得需要做處理嗎?\n"
   ]
  },
  {
   "cell_type": "code",
   "execution_count": null,
   "metadata": {},
   "outputs": [],
   "source": [
    "# 從Ｃabin觀察可發現有些資料具備多個位子，因此Fare可能是因為多個位子才數字較大，需要另外分群處理"
   ]
  }
 ],
 "metadata": {
  "colab": {
   "name": "Day33.YOLO 細節理解 - 網路輸出的後處理_HW.ipynb",
   "provenance": []
  },
  "kernelspec": {
   "display_name": "Python 3",
   "language": "python",
   "name": "python3"
  },
  "language_info": {
   "codemirror_mode": {
    "name": "ipython",
    "version": 3
   },
   "file_extension": ".py",
   "mimetype": "text/x-python",
   "name": "python",
   "nbconvert_exporter": "python",
   "pygments_lexer": "ipython3",
   "version": "3.8.5"
  }
 },
 "nbformat": 4,
 "nbformat_minor": 1
}
