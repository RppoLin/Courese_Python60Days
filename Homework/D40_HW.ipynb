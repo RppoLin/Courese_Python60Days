{
 "cells": [
  {
   "cell_type": "markdown",
   "metadata": {},
   "source": [
    "## 作業\n",
    "在鐵達尼資料集中，\n",
    "透過進階補值方法 KNN，將鐵達尼號中的 Titanic_train\n",
    ".csv 中的 age 的遺失值進行補值。    \n",
    "* step1: 觀察 Age 和 Pclass 與 Sex 是否有關連性?\n",
    "* step2: 如果有關連性，運用 KNN ，取出 Age 、 Pclass、 Sex的資料，以 Sex 與 Pclass 補 Age 遺失值。 "
   ]
  },
  {
   "cell_type": "code",
   "execution_count": 1,
   "metadata": {
    "colab": {
     "base_uri": "https://localhost:8080/",
     "height": 34
    },
    "colab_type": "code",
    "executionInfo": {
     "elapsed": 1558,
     "status": "ok",
     "timestamp": 1578021044012,
     "user": {
      "displayName": "Mora chen",
      "photoUrl": "https://lh3.googleusercontent.com/a-/AAuE7mB40f7sDArbZ5_DYq02nNcnLD0Ryaf7AhsASSQeLQ=s64",
      "userId": "03171203089166907199"
     },
     "user_tz": -480
    },
    "id": "yz28_IgkYdBW",
    "outputId": "a12f486c-18b3-4fb5-d06c-f162aebd9444"
   },
   "outputs": [],
   "source": [
    "# import library\n",
    "import matplotlib.pyplot as plt\n",
    "import numpy as np\n",
    "import pandas as pd\n",
    "from scipy import stats\n",
    "import math\n",
    "import statistics\n",
    "import seaborn as sns\n",
    "from IPython.display import display"
   ]
  },
  {
   "cell_type": "markdown",
   "metadata": {},
   "source": [
    "## 讀入資料"
   ]
  },
  {
   "cell_type": "code",
   "execution_count": 5,
   "metadata": {},
   "outputs": [],
   "source": [
    "df_train = pd.read_csv('Titanic_train.csv')\n",
    "\n",
    "#print(df_train.head(20))"
   ]
  },
  {
   "cell_type": "markdown",
   "metadata": {},
   "source": [
    "## 觀察 Age"
   ]
  },
  {
   "cell_type": "code",
   "execution_count": 17,
   "metadata": {},
   "outputs": [
    {
     "data": {
      "image/png": "[encoded data removed]",
      "text/plain": [
       "<Figure size 432x288 with 1 Axes>"
      ]
     },
     "metadata": {
      "needs_background": "light"
     },
     "output_type": "display_data"
    }
   ],
   "source": [
    "fig = sns.boxplot(x = df_train['Pclass'], y = df_train['Age'], hue = df_train['Sex'])\n"
   ]
  },
  {
   "cell_type": "code",
   "execution_count": null,
   "metadata": {},
   "outputs": [],
   "source": [
    "# Age 和 Pclass 呈負相關\n"
   ]
  },
  {
   "cell_type": "code",
   "execution_count": 14,
   "metadata": {},
   "outputs": [
    {
     "name": "stdout",
     "output_type": "stream",
     "text": [
      "Pclass null count: 0\n",
      "Sex null count: 0\n"
     ]
    }
   ],
   "source": [
    "# check if Pclass & Sex has null value\n",
    "print('Pclass null count:', df_train[\"Pclass\"].isnull().sum())\n",
    "print('Sex null count:', df_train[\"Sex\"].isnull().sum())\n"
   ]
  },
  {
   "cell_type": "code",
   "execution_count": 23,
   "metadata": {},
   "outputs": [
    {
     "name": "stderr",
     "output_type": "stream",
     "text": [
      "<ipython-input-23-e974bfe08fdd>:8: SettingWithCopyWarning: \n",
      "A value is trying to be set on a copy of a slice from a DataFrame.\n",
      "Try using .loc[row_indexer,col_indexer] = value instead\n",
      "\n",
      "See the caveats in the documentation: https://pandas.pydata.org/pandas-docs/stable/user_guide/indexing.html#returning-a-view-versus-a-copy\n",
      "  new_df_train['Sex']=le.fit_transform(new_df_train['Sex'])\n"
     ]
    }
   ],
   "source": [
    "# change Sex to indexcode\n",
    "#透過 preprocessing 轉換\n",
    "from sklearn import preprocessing\n",
    "le = preprocessing.LabelEncoder()\n",
    "new_df_train = df_train[['Pclass', 'Age', 'Sex']]\n",
    "#new_df_train['Pclass'] = df_train['Pclass']\n",
    "#new_df_train['Age'] = df_train['Age']\n",
    "new_df_train['Sex']=le.fit_transform(new_df_train['Sex'])\n"
   ]
  },
  {
   "cell_type": "code",
   "execution_count": 25,
   "metadata": {},
   "outputs": [],
   "source": [
    "from sklearn.metrics.pairwise import nan_euclidean_distances\n",
    "#display(pd.DataFrame(nan_euclidean_distances(new_df_train)))\n",
    "# KNN\n",
    "value_neighbors=3\n",
    "from sklearn.impute import KNNImputer\n",
    "imputer = KNNImputer(n_neighbors=value_neighbors)\n",
    "df_filled = pd.DataFrame(imputer.fit_transform(new_df_train))\n",
    "\n",
    "#display(df_filled)"
   ]
  },
  {
   "cell_type": "code",
   "execution_count": 28,
   "metadata": {},
   "outputs": [
    {
     "name": "stdout",
     "output_type": "stream",
     "text": [
      "           Pclass         Age         Sex\n",
      "count  891.000000  714.000000  891.000000\n",
      "mean     2.308642   29.699118    0.647587\n",
      "std      0.836071   14.526497    0.477990\n",
      "min      1.000000    0.420000    0.000000\n",
      "25%      2.000000   20.125000    0.000000\n",
      "50%      3.000000   28.000000    1.000000\n",
      "75%      3.000000   38.000000    1.000000\n",
      "max      3.000000   80.000000    1.000000\n",
      "                0           1           2\n",
      "count  891.000000  891.000000  891.000000\n",
      "mean     2.308642   28.530681    0.647587\n",
      "std      0.836071   13.727408    0.477990\n",
      "min      1.000000    0.420000    0.000000\n",
      "25%      2.000000   19.666667    0.000000\n",
      "50%      3.000000   26.000000    1.000000\n",
      "75%      3.000000   36.000000    1.000000\n",
      "max      3.000000   80.000000    1.000000\n"
     ]
    }
   ],
   "source": [
    "print(new_df_train.describe())\n",
    "print(df_filled.describe())"
   ]
  },
  {
   "cell_type": "code",
   "execution_count": null,
   "metadata": {},
   "outputs": [],
   "source": [
    "# 補值後整體資料屬性並未差距太大\n"
   ]
  },
  {
   "cell_type": "code",
   "execution_count": null,
   "metadata": {},
   "outputs": [],
   "source": []
  }
 ],
 "metadata": {
  "colab": {
   "name": "Day33.YOLO 細節理解 - 網路輸出的後處理_HW.ipynb",
   "provenance": []
  },
  "kernelspec": {
   "display_name": "Python 3",
   "language": "python",
   "name": "python3"
  },
  "language_info": {
   "codemirror_mode": {
    "name": "ipython",
    "version": 3
   },
   "file_extension": ".py",
   "mimetype": "text/x-python",
   "name": "python",
   "nbconvert_exporter": "python",
   "pygments_lexer": "ipython3",
   "version": "3.8.5"
  }
 },
 "nbformat": 4,
 "nbformat_minor": 1
}
