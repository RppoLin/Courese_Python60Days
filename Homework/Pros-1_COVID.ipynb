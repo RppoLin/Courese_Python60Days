{
 "cells": [
  {
   "cell_type": "code",
   "execution_count": 2,
   "metadata": {},
   "outputs": [],
   "source": [
    "# 載入所需要的套件\n",
    "\n",
    "import numpy as np \n",
    "import pandas as pd \n",
    "import matplotlib.pyplot as plt\n",
    "import plotly.graph_objects as go\n",
    "import plotly.express as px\n",
    "pd.set_option('display.max_rows', None)\n",
    "from plotly.subplots import make_subplots\n",
    "import seaborn as sns\n",
    "import datetime"
   ]
  },
  {
   "cell_type": "code",
   "execution_count": 3,
   "metadata": {},
   "outputs": [],
   "source": [
    "# 利用 PANDAS 讀入DATA\n",
    "\n",
    "data = pd.read_csv('covid_19_data.csv')"
   ]
  },
  {
   "cell_type": "code",
   "execution_count": 4,
   "metadata": {},
   "outputs": [
    {
     "data": {
      "text/html": [
       "<div>\n",
       "<style scoped>\n",
       "    .dataframe tbody tr th:only-of-type {\n",
       "        vertical-align: middle;\n",
       "    }\n",
       "\n",
       "    .dataframe tbody tr th {\n",
       "        vertical-align: top;\n",
       "    }\n",
       "\n",
       "    .dataframe thead th {\n",
       "        text-align: right;\n",
       "    }\n",
       "</style>\n",
       "<table border=\"1\" class=\"dataframe\">\n",
       "  <thead>\n",
       "    <tr style=\"text-align: right;\">\n",
       "      <th></th>\n",
       "      <th>column_name</th>\n",
       "      <th>percentage</th>\n",
       "    </tr>\n",
       "  </thead>\n",
       "  <tbody>\n",
       "    <tr>\n",
       "      <th>0</th>\n",
       "      <td>SNo</td>\n",
       "      <td>0.000000</td>\n",
       "    </tr>\n",
       "    <tr>\n",
       "      <th>1</th>\n",
       "      <td>ObservationDate</td>\n",
       "      <td>0.000000</td>\n",
       "    </tr>\n",
       "    <tr>\n",
       "      <th>2</th>\n",
       "      <td>Province/State</td>\n",
       "      <td>28.352699</td>\n",
       "    </tr>\n",
       "    <tr>\n",
       "      <th>3</th>\n",
       "      <td>Country/Region</td>\n",
       "      <td>0.000000</td>\n",
       "    </tr>\n",
       "    <tr>\n",
       "      <th>4</th>\n",
       "      <td>Last Update</td>\n",
       "      <td>0.000000</td>\n",
       "    </tr>\n",
       "    <tr>\n",
       "      <th>5</th>\n",
       "      <td>Confirmed</td>\n",
       "      <td>0.000000</td>\n",
       "    </tr>\n",
       "    <tr>\n",
       "      <th>6</th>\n",
       "      <td>Deaths</td>\n",
       "      <td>0.000000</td>\n",
       "    </tr>\n",
       "    <tr>\n",
       "      <th>7</th>\n",
       "      <td>Recovered</td>\n",
       "      <td>0.000000</td>\n",
       "    </tr>\n",
       "  </tbody>\n",
       "</table>\n",
       "</div>"
      ],
      "text/plain": [
       "       column_name  percentage\n",
       "0              SNo    0.000000\n",
       "1  ObservationDate    0.000000\n",
       "2   Province/State   28.352699\n",
       "3   Country/Region    0.000000\n",
       "4      Last Update    0.000000\n",
       "5        Confirmed    0.000000\n",
       "6           Deaths    0.000000\n",
       "7        Recovered    0.000000"
      ]
     },
     "execution_count": 4,
     "metadata": {},
     "output_type": "execute_result"
    }
   ],
   "source": [
    "# 缺失值處理\n",
    "#Percentage of NAN Values, 計算缺失值在資料內的比例\n",
    "NAN = [(c, data[c].isna().mean()*100) for c in data]\n",
    "NAN = pd.DataFrame(NAN, columns=[\"column_name\", \"percentage\"])\n",
    "NAN"
   ]
  },
  {
   "cell_type": "code",
   "execution_count": 5,
   "metadata": {},
   "outputs": [],
   "source": [
    "# fill na of state to unknown\n",
    "data[\"Province/State\"]= data[\"Province/State\"].fillna('Unknown')"
   ]
  },
  {
   "cell_type": "code",
   "execution_count": 8,
   "metadata": {},
   "outputs": [
    {
     "name": "stdout",
     "output_type": "stream",
     "text": [
      "<class 'pandas.core.frame.DataFrame'>\n",
      "RangeIndex: 156292 entries, 0 to 156291\n",
      "Data columns (total 8 columns):\n",
      " #   Column           Non-Null Count   Dtype \n",
      "---  ------           --------------   ----- \n",
      " 0   SNo              156292 non-null  int64 \n",
      " 1   ObservationDate  156292 non-null  object\n",
      " 2   Province/State   156292 non-null  object\n",
      " 3   Country/Region   156292 non-null  object\n",
      " 4   Last Update      156292 non-null  object\n",
      " 5   Confirmed        156292 non-null  int64 \n",
      " 6   Deaths           156292 non-null  int64 \n",
      " 7   Recovered        156292 non-null  int64 \n",
      "dtypes: int64(4), object(4)\n",
      "memory usage: 9.5+ MB\n"
     ]
    },
    {
     "data": {
      "text/html": [
       "<div>\n",
       "<style scoped>\n",
       "    .dataframe tbody tr th:only-of-type {\n",
       "        vertical-align: middle;\n",
       "    }\n",
       "\n",
       "    .dataframe tbody tr th {\n",
       "        vertical-align: top;\n",
       "    }\n",
       "\n",
       "    .dataframe thead th {\n",
       "        text-align: right;\n",
       "    }\n",
       "</style>\n",
       "<table border=\"1\" class=\"dataframe\">\n",
       "  <thead>\n",
       "    <tr style=\"text-align: right;\">\n",
       "      <th></th>\n",
       "      <th>SNo</th>\n",
       "      <th>ObservationDate</th>\n",
       "      <th>Province/State</th>\n",
       "      <th>Country/Region</th>\n",
       "      <th>Last Update</th>\n",
       "      <th>Confirmed</th>\n",
       "      <th>Deaths</th>\n",
       "      <th>Recovered</th>\n",
       "    </tr>\n",
       "  </thead>\n",
       "  <tbody>\n",
       "    <tr>\n",
       "      <th>0</th>\n",
       "      <td>1</td>\n",
       "      <td>01/22/2020</td>\n",
       "      <td>Anhui</td>\n",
       "      <td>Mainland China</td>\n",
       "      <td>1/22/2020 17:00</td>\n",
       "      <td>1</td>\n",
       "      <td>0</td>\n",
       "      <td>0</td>\n",
       "    </tr>\n",
       "    <tr>\n",
       "      <th>1</th>\n",
       "      <td>2</td>\n",
       "      <td>01/22/2020</td>\n",
       "      <td>Beijing</td>\n",
       "      <td>Mainland China</td>\n",
       "      <td>1/22/2020 17:00</td>\n",
       "      <td>14</td>\n",
       "      <td>0</td>\n",
       "      <td>0</td>\n",
       "    </tr>\n",
       "    <tr>\n",
       "      <th>2</th>\n",
       "      <td>3</td>\n",
       "      <td>01/22/2020</td>\n",
       "      <td>Chongqing</td>\n",
       "      <td>Mainland China</td>\n",
       "      <td>1/22/2020 17:00</td>\n",
       "      <td>6</td>\n",
       "      <td>0</td>\n",
       "      <td>0</td>\n",
       "    </tr>\n",
       "    <tr>\n",
       "      <th>3</th>\n",
       "      <td>4</td>\n",
       "      <td>01/22/2020</td>\n",
       "      <td>Fujian</td>\n",
       "      <td>Mainland China</td>\n",
       "      <td>1/22/2020 17:00</td>\n",
       "      <td>1</td>\n",
       "      <td>0</td>\n",
       "      <td>0</td>\n",
       "    </tr>\n",
       "    <tr>\n",
       "      <th>4</th>\n",
       "      <td>5</td>\n",
       "      <td>01/22/2020</td>\n",
       "      <td>Gansu</td>\n",
       "      <td>Mainland China</td>\n",
       "      <td>1/22/2020 17:00</td>\n",
       "      <td>0</td>\n",
       "      <td>0</td>\n",
       "      <td>0</td>\n",
       "    </tr>\n",
       "  </tbody>\n",
       "</table>\n",
       "</div>"
      ],
      "text/plain": [
       "   SNo ObservationDate Province/State  Country/Region      Last Update  \\\n",
       "0    1      01/22/2020          Anhui  Mainland China  1/22/2020 17:00   \n",
       "1    2      01/22/2020        Beijing  Mainland China  1/22/2020 17:00   \n",
       "2    3      01/22/2020      Chongqing  Mainland China  1/22/2020 17:00   \n",
       "3    4      01/22/2020         Fujian  Mainland China  1/22/2020 17:00   \n",
       "4    5      01/22/2020          Gansu  Mainland China  1/22/2020 17:00   \n",
       "\n",
       "   Confirmed  Deaths  Recovered  \n",
       "0          1       0          0  \n",
       "1         14       0          0  \n",
       "2          6       0          0  \n",
       "3          1       0          0  \n",
       "4          0       0          0  "
      ]
     },
     "execution_count": 8,
     "metadata": {},
     "output_type": "execute_result"
    }
   ],
   "source": [
    "data.info()\n",
    "data.head()"
   ]
  },
  {
   "cell_type": "code",
   "execution_count": 10,
   "metadata": {},
   "outputs": [],
   "source": [
    "# encoding Confirmed, Deaths, Recovered to int\n",
    "data[[\"Confirmed\",\"Deaths\",\"Recovered\"]] =data[[\"Confirmed\",\"Deaths\",\"Recovered\"]].astype(int)\n",
    "# replace Mainland China to China\n",
    "data['Country/Region'] = data['Country/Region'].replace('Mainland China', 'China')\n",
    "# ActiveCase = Confirmed - Deaths - Recovered\n",
    "data['ActiveCase'] = data['Confirmed'] - data['Deaths'] - data['Recovered']\n",
    "#update index \n",
    "Data = data[data['ObservationDate'] == max(data['ObservationDate'])].reset_index()"
   ]
  },
  {
   "cell_type": "code",
   "execution_count": 38,
   "metadata": {},
   "outputs": [
    {
     "name": "stderr",
     "output_type": "stream",
     "text": [
      "<ipython-input-38-6248b71161c6>:2: FutureWarning:\n",
      "\n",
      "Indexing with multiple keys (implicitly converted to a tuple of keys) will be deprecated, use a list instead.\n",
      "\n"
     ]
    },
    {
     "data": {
      "application/vnd.plotly.v1+json": {
       "config": {
        "plotlyServerURL": "https://plot.ly"
       },
       "data": [
        {
         "name": "Confirmed",
         "orientation": "h",
         "type": "bar",
         "x": [
          11036935,
          8845127,
          5863093,
          1915713,
          1910149,
          1458591,
          1372884,
          1310491,
          1198746,
          1178529,
          1006522,
          934899,
          802946,
          762068,
          751024,
          712972,
          551533,
          535939,
          531273,
          519152,
          467113,
          460116,
          454961,
          432333,
          414278,
          407838,
          360281,
          359032,
          353255,
          323741,
          299422,
          293177,
          257135,
          217301,
          209776,
          203956,
          180295,
          177355,
          150345,
          146653,
          143678,
          143246,
          140961,
          136840,
          135785,
          133724,
          123223,
          121051,
          120389,
          118611,
          117337,
          114885,
          114185,
          110767,
          105430,
          103102,
          102720,
          98251,
          97352,
          89279,
          86767,
          86346,
          84703,
          84568,
          84206,
          80404,
          79678,
          75688,
          74205,
          73602,
          71956,
          71574,
          70245,
          70243,
          68994,
          67903,
          67679,
          66983,
          65148,
          63031,
          62652,
          58119,
          55042,
          50123,
          47417,
          47050,
          43240,
          36358,
          34758,
          29117,
          28769,
          28434,
          27830,
          27749,
          27177,
          25931,
          22692,
          20976,
          19315,
          17310,
          17287,
          17123,
          16020,
          15793,
          14626,
          14448,
          13508,
          13451,
          12611,
          12204,
          11760,
          11610,
          10547,
          9884,
          9822,
          9168,
          9062,
          8829,
          8225,
          8034,
          7952,
          7637,
          7590,
          7186,
          7178,
          6684,
          6095,
          6080,
          5965,
          5872,
          5661,
          5649,
          5515,
          5458,
          5455,
          5274,
          5189,
          5104,
          4900,
          4861,
          4823,
          4301,
          4030,
          3900,
          3875,
          3702,
          3003,
          2844,
          2675,
          2641,
          2419,
          2391,
          2072,
          2041,
          2001,
          1597,
          1507,
          1307,
          1281,
          1253,
          985,
          965,
          712,
          628,
          602,
          602,
          579,
          548,
          509,
          493,
          478,
          431,
          375,
          302,
          250,
          162,
          160,
          148,
          134,
          78,
          68,
          46,
          35,
          32,
          30,
          27,
          24,
          19,
          16,
          10,
          9,
          1,
          1
         ],
         "y": [
          "US",
          "India",
          "Brazil",
          "France",
          "Russia",
          "Spain",
          "UK",
          "Argentina",
          "Colombia",
          "Italy",
          "Mexico",
          "Peru",
          "Germany",
          "Iran",
          "South Africa",
          "Poland",
          "Ukraine",
          "Belgium",
          "Chile",
          "Iraq",
          "Indonesia",
          "Czech Republic",
          "Netherlands",
          "Bangladesh",
          "Turkey",
          "Philippines",
          "Romania",
          "Pakistan",
          "Saudi Arabia",
          "Israel",
          "Canada",
          "Morocco",
          "Switzerland",
          "Portugal",
          "Nepal",
          "Austria",
          "Ecuador",
          "Sweden",
          "United Arab Emirates",
          "Panama",
          "Jordan",
          "Bolivia",
          "Hungary",
          "Kuwait",
          "Qatar",
          "Dominican Republic",
          "Costa Rica",
          "Kazakhstan",
          "Oman",
          "Japan",
          "Armenia",
          "Guatemala",
          "Belarus",
          "Egypt",
          "Lebanon",
          "Honduras",
          "Ethiopia",
          "Bulgaria",
          "Venezuela",
          "Moldova",
          "Slovakia",
          "China",
          "Bahrain",
          "Serbia",
          "Croatia",
          "Tunisia",
          "Georgia",
          "Azerbaijan",
          "Greece",
          "Libya",
          "Bosnia and Herzegovina",
          "Paraguay",
          "Kenya",
          "Uzbekistan",
          "Burma",
          "Ireland",
          "Algeria",
          "Kyrgyzstan",
          "Nigeria",
          "West Bank and Gaza",
          "Denmark",
          "Singapore",
          "Slovenia",
          "Ghana",
          "Malaysia",
          "North Macedonia",
          "Afghanistan",
          "El Salvador",
          "Lithuania",
          "Kosovo",
          "South Korea",
          "Norway",
          "Albania",
          "Australia",
          "Montenegro",
          "Luxembourg",
          "Cameroon",
          "Ivory Coast",
          "Finland",
          "Madagascar",
          "Sri Lanka",
          "Zambia",
          "Uganda",
          "Senegal",
          "Sudan",
          "Mozambique",
          "Namibia",
          "Angola",
          "Guinea",
          "Maldives",
          "Congo (Kinshasa)",
          "Tajikistan",
          "Latvia",
          "Jamaica",
          "Cabo Verde",
          "Haiti",
          "Gabon",
          "Zimbabwe",
          "Botswana",
          "Malta",
          "Mauritania",
          "Estonia",
          "Cuba",
          "Bahamas",
          "Cyprus",
          "Syria",
          "Eswatini",
          "Trinidad and Tobago",
          "Malawi",
          "Andorra",
          "Nicaragua",
          "Djibouti",
          "Congo (Brazzaville)",
          "Hong Kong",
          "Rwanda",
          "Suriname",
          "Iceland",
          "Equatorial Guinea",
          "Central African Republic",
          "Belize",
          "Guyana",
          "Somalia",
          "Uruguay",
          "Mali",
          "Thailand",
          "Gambia",
          "South Sudan",
          "Benin",
          "Togo",
          "Burkina Faso",
          "Guinea-Bissau",
          "Sierra Leone",
          "Yemen",
          "Lesotho",
          "New Zealand",
          "Chad",
          "Liberia",
          "Niger",
          "Vietnam",
          "San Marino",
          "Liechtenstein",
          "Sao Tome and Principe",
          "Diamond Princess",
          "Burundi",
          "Papua New Guinea",
          "Taiwan",
          "Comoros",
          "Monaco",
          "Tanzania",
          "Eritrea",
          "Mauritius",
          "Mongolia",
          "Bhutan",
          "Cambodia",
          "Barbados",
          "Saint Lucia",
          "Seychelles",
          "Brunei",
          "Antigua and Barbuda",
          "Saint Vincent and the Grenadines",
          "Dominica",
          "Macau",
          "Fiji",
          "Grenada",
          "Timor-Leste",
          "Holy See",
          "Laos",
          "Saint Kitts and Nevis",
          "Solomon Islands",
          "Western Sahara",
          "MS Zaandam",
          "Marshall Islands",
          "Vanuatu"
         ]
        },
        {
         "name": "Recovered",
         "orientation": "h",
         "type": "bar",
         "x": [
          4174884,
          8249579,
          5279452,
          139760,
          1429565,
          150376,
          3121,
          1129102,
          1104956,
          420810,
          750190,
          858388,
          505714,
          558818,
          693467,
          294783,
          251864,
          0,
          506700,
          447039,
          391991,
          327306,
          6448,
          349542,
          353663,
          374329,
          243832,
          323824,
          340304,
          313380,
          240434,
          238598,
          141000,
          125066,
          173430,
          125674,
          160639,
          0,
          143252,
          125370,
          10067,
          117137,
          31599,
          127585,
          132784,
          109981,
          75341,
          109944,
          111096,
          91954,
          74984,
          104438,
          95843,
          101046,
          60416,
          44778,
          63866,
          29375,
          92373,
          70812,
          30519,
          81332,
          82469,
          0,
          66231,
          54362,
          62061,
          55150,
          23074,
          44133,
          35606,
          51375,
          45766,
          67526,
          52351,
          23364,
          44633,
          57760,
          61073,
          54346,
          48259,
          58029,
          34864,
          48328,
          34785,
          27364,
          35092,
          32721,
          7753,
          17305,
          25759,
          11863,
          12889,
          25468,
          17387,
          15428,
          21510,
          20647,
          14000,
          16592,
          11495,
          16137,
          8038,
          15416,
          9571,
          12505,
          12680,
          6444,
          11151,
          11289,
          11086,
          10973,
          1515,
          5248,
          9220,
          7701,
          8939,
          8096,
          5559,
          5765,
          7524,
          4741,
          7060,
          5323,
          2021,
          2714,
          5779,
          5402,
          5399,
          4747,
          4225,
          5525,
          3887,
          5194,
          4995,
          5148,
          4813,
          4973,
          1924,
          2598,
          3777,
          3330,
          3233,
          2949,
          3721,
          3571,
          1290,
          2515,
          1920,
          2445,
          2255,
          1820,
          1394,
          1056,
          1918,
          1443,
          1314,
          1148,
          1103,
          888,
          682,
          917,
          659,
          549,
          586,
          536,
          549,
          450,
          183,
          444,
          431,
          328,
          355,
          289,
          238,
          46,
          157,
          145,
          127,
          77,
          41,
          46,
          32,
          27,
          30,
          15,
          23,
          19,
          5,
          8,
          0,
          1,
          0
         ],
         "y": [
          "US",
          "India",
          "Brazil",
          "France",
          "Russia",
          "Spain",
          "UK",
          "Argentina",
          "Colombia",
          "Italy",
          "Mexico",
          "Peru",
          "Germany",
          "Iran",
          "South Africa",
          "Poland",
          "Ukraine",
          "Belgium",
          "Chile",
          "Iraq",
          "Indonesia",
          "Czech Republic",
          "Netherlands",
          "Bangladesh",
          "Turkey",
          "Philippines",
          "Romania",
          "Pakistan",
          "Saudi Arabia",
          "Israel",
          "Canada",
          "Morocco",
          "Switzerland",
          "Portugal",
          "Nepal",
          "Austria",
          "Ecuador",
          "Sweden",
          "United Arab Emirates",
          "Panama",
          "Jordan",
          "Bolivia",
          "Hungary",
          "Kuwait",
          "Qatar",
          "Dominican Republic",
          "Costa Rica",
          "Kazakhstan",
          "Oman",
          "Japan",
          "Armenia",
          "Guatemala",
          "Belarus",
          "Egypt",
          "Lebanon",
          "Honduras",
          "Ethiopia",
          "Bulgaria",
          "Venezuela",
          "Moldova",
          "Slovakia",
          "China",
          "Bahrain",
          "Serbia",
          "Croatia",
          "Tunisia",
          "Georgia",
          "Azerbaijan",
          "Greece",
          "Libya",
          "Bosnia and Herzegovina",
          "Paraguay",
          "Kenya",
          "Uzbekistan",
          "Burma",
          "Ireland",
          "Algeria",
          "Kyrgyzstan",
          "Nigeria",
          "West Bank and Gaza",
          "Denmark",
          "Singapore",
          "Slovenia",
          "Ghana",
          "Malaysia",
          "North Macedonia",
          "Afghanistan",
          "El Salvador",
          "Lithuania",
          "Kosovo",
          "South Korea",
          "Norway",
          "Albania",
          "Australia",
          "Montenegro",
          "Luxembourg",
          "Cameroon",
          "Ivory Coast",
          "Finland",
          "Madagascar",
          "Sri Lanka",
          "Zambia",
          "Uganda",
          "Senegal",
          "Sudan",
          "Mozambique",
          "Namibia",
          "Angola",
          "Guinea",
          "Maldives",
          "Congo (Kinshasa)",
          "Tajikistan",
          "Latvia",
          "Jamaica",
          "Cabo Verde",
          "Haiti",
          "Gabon",
          "Zimbabwe",
          "Botswana",
          "Malta",
          "Mauritania",
          "Estonia",
          "Cuba",
          "Bahamas",
          "Cyprus",
          "Syria",
          "Eswatini",
          "Trinidad and Tobago",
          "Malawi",
          "Andorra",
          "Nicaragua",
          "Djibouti",
          "Congo (Brazzaville)",
          "Hong Kong",
          "Rwanda",
          "Suriname",
          "Iceland",
          "Equatorial Guinea",
          "Central African Republic",
          "Belize",
          "Guyana",
          "Somalia",
          "Uruguay",
          "Mali",
          "Thailand",
          "Gambia",
          "South Sudan",
          "Benin",
          "Togo",
          "Burkina Faso",
          "Guinea-Bissau",
          "Sierra Leone",
          "Yemen",
          "Lesotho",
          "New Zealand",
          "Chad",
          "Liberia",
          "Niger",
          "Vietnam",
          "San Marino",
          "Liechtenstein",
          "Sao Tome and Principe",
          "Diamond Princess",
          "Burundi",
          "Papua New Guinea",
          "Taiwan",
          "Comoros",
          "Monaco",
          "Tanzania",
          "Eritrea",
          "Mauritius",
          "Mongolia",
          "Bhutan",
          "Cambodia",
          "Barbados",
          "Saint Lucia",
          "Seychelles",
          "Brunei",
          "Antigua and Barbuda",
          "Saint Vincent and the Grenadines",
          "Dominica",
          "Macau",
          "Fiji",
          "Grenada",
          "Timor-Leste",
          "Holy See",
          "Laos",
          "Saint Kitts and Nevis",
          "Solomon Islands",
          "Western Sahara",
          "MS Zaandam",
          "Marshall Islands",
          "Vanuatu"
         ]
        }
       ],
       "layout": {
        "template": {
         "data": {
          "bar": [
           {
            "error_x": {
             "color": "#f2f5fa"
            },
            "error_y": {
             "color": "#f2f5fa"
            },
            "marker": {
             "line": {
              "color": "rgb(17,17,17)",
              "width": 0.5
             }
            },
            "type": "bar"
           }
          ],
          "barpolar": [
           {
            "marker": {
             "line": {
              "color": "rgb(17,17,17)",
              "width": 0.5
             }
            },
            "type": "barpolar"
           }
          ],
          "carpet": [
           {
            "aaxis": {
             "endlinecolor": "#A2B1C6",
             "gridcolor": "#506784",
             "linecolor": "#506784",
             "minorgridcolor": "#506784",
             "startlinecolor": "#A2B1C6"
            },
            "baxis": {
             "endlinecolor": "#A2B1C6",
             "gridcolor": "#506784",
             "linecolor": "#506784",
             "minorgridcolor": "#506784",
             "startlinecolor": "#A2B1C6"
            },
            "type": "carpet"
           }
          ],
          "choropleth": [
           {
            "colorbar": {
             "outlinewidth": 0,
             "ticks": ""
            },
            "type": "choropleth"
           }
          ],
          "contour": [
           {
            "colorbar": {
             "outlinewidth": 0,
             "ticks": ""
            },
            "colorscale": [
             [
              0,
              "#0d0887"
             ],
             [
              0.1111111111111111,
              "#46039f"
             ],
             [
              0.2222222222222222,
              "#7201a8"
             ],
             [
              0.3333333333333333,
              "#9c179e"
             ],
             [
              0.4444444444444444,
              "#bd3786"
             ],
             [
              0.5555555555555556,
              "#d8576b"
             ],
             [
              0.6666666666666666,
              "#ed7953"
             ],
             [
              0.7777777777777778,
              "#fb9f3a"
             ],
             [
              0.8888888888888888,
              "#fdca26"
             ],
             [
              1,
              "#f0f921"
             ]
            ],
            "type": "contour"
           }
          ],
          "contourcarpet": [
           {
            "colorbar": {
             "outlinewidth": 0,
             "ticks": ""
            },
            "type": "contourcarpet"
           }
          ],
          "heatmap": [
           {
            "colorbar": {
             "outlinewidth": 0,
             "ticks": ""
            },
            "colorscale": [
             [
              0,
              "#0d0887"
             ],
             [
              0.1111111111111111,
              "#46039f"
             ],
             [
              0.2222222222222222,
              "#7201a8"
             ],
             [
              0.3333333333333333,
              "#9c179e"
             ],
             [
              0.4444444444444444,
              "#bd3786"
             ],
             [
              0.5555555555555556,
              "#d8576b"
             ],
             [
              0.6666666666666666,
              "#ed7953"
             ],
             [
              0.7777777777777778,
              "#fb9f3a"
             ],
             [
              0.8888888888888888,
              "#fdca26"
             ],
             [
              1,
              "#f0f921"
             ]
            ],
            "type": "heatmap"
           }
          ],
          "heatmapgl": [
           {
            "colorbar": {
             "outlinewidth": 0,
             "ticks": ""
            },
            "colorscale": [
             [
              0,
              "#0d0887"
             ],
             [
              0.1111111111111111,
              "#46039f"
             ],
             [
              0.2222222222222222,
              "#7201a8"
             ],
             [
              0.3333333333333333,
              "#9c179e"
             ],
             [
              0.4444444444444444,
              "#bd3786"
             ],
             [
              0.5555555555555556,
              "#d8576b"
             ],
             [
              0.6666666666666666,
              "#ed7953"
             ],
             [
              0.7777777777777778,
              "#fb9f3a"
             ],
             [
              0.8888888888888888,
              "#fdca26"
             ],
             [
              1,
              "#f0f921"
             ]
            ],
            "type": "heatmapgl"
           }
          ],
          "histogram": [
           {
            "marker": {
             "colorbar": {
              "outlinewidth": 0,
              "ticks": ""
             }
            },
            "type": "histogram"
           }
          ],
          "histogram2d": [
           {
            "colorbar": {
             "outlinewidth": 0,
             "ticks": ""
            },
            "colorscale": [
             [
              0,
              "#0d0887"
             ],
             [
              0.1111111111111111,
              "#46039f"
             ],
             [
              0.2222222222222222,
              "#7201a8"
             ],
             [
              0.3333333333333333,
              "#9c179e"
             ],
             [
              0.4444444444444444,
              "#bd3786"
             ],
             [
              0.5555555555555556,
              "#d8576b"
             ],
             [
              0.6666666666666666,
              "#ed7953"
             ],
             [
              0.7777777777777778,
              "#fb9f3a"
             ],
             [
              0.8888888888888888,
              "#fdca26"
             ],
             [
              1,
              "#f0f921"
             ]
            ],
            "type": "histogram2d"
           }
          ],
          "histogram2dcontour": [
           {
            "colorbar": {
             "outlinewidth": 0,
             "ticks": ""
            },
            "colorscale": [
             [
              0,
              "#0d0887"
             ],
             [
              0.1111111111111111,
              "#46039f"
             ],
             [
              0.2222222222222222,
              "#7201a8"
             ],
             [
              0.3333333333333333,
              "#9c179e"
             ],
             [
              0.4444444444444444,
              "#bd3786"
             ],
             [
              0.5555555555555556,
              "#d8576b"
             ],
             [
              0.6666666666666666,
              "#ed7953"
             ],
             [
              0.7777777777777778,
              "#fb9f3a"
             ],
             [
              0.8888888888888888,
              "#fdca26"
             ],
             [
              1,
              "#f0f921"
             ]
            ],
            "type": "histogram2dcontour"
           }
          ],
          "mesh3d": [
           {
            "colorbar": {
             "outlinewidth": 0,
             "ticks": ""
            },
            "type": "mesh3d"
           }
          ],
          "parcoords": [
           {
            "line": {
             "colorbar": {
              "outlinewidth": 0,
              "ticks": ""
             }
            },
            "type": "parcoords"
           }
          ],
          "pie": [
           {
            "automargin": true,
            "type": "pie"
           }
          ],
          "scatter": [
           {
            "marker": {
             "line": {
              "color": "#283442"
             }
            },
            "type": "scatter"
           }
          ],
          "scatter3d": [
           {
            "line": {
             "colorbar": {
              "outlinewidth": 0,
              "ticks": ""
             }
            },
            "marker": {
             "colorbar": {
              "outlinewidth": 0,
              "ticks": ""
             }
            },
            "type": "scatter3d"
           }
          ],
          "scattercarpet": [
           {
            "marker": {
             "colorbar": {
              "outlinewidth": 0,
              "ticks": ""
             }
            },
            "type": "scattercarpet"
           }
          ],
          "scattergeo": [
           {
            "marker": {
             "colorbar": {
              "outlinewidth": 0,
              "ticks": ""
             }
            },
            "type": "scattergeo"
           }
          ],
          "scattergl": [
           {
            "marker": {
             "line": {
              "color": "#283442"
             }
            },
            "type": "scattergl"
           }
          ],
          "scattermapbox": [
           {
            "marker": {
             "colorbar": {
              "outlinewidth": 0,
              "ticks": ""
             }
            },
            "type": "scattermapbox"
           }
          ],
          "scatterpolar": [
           {
            "marker": {
             "colorbar": {
              "outlinewidth": 0,
              "ticks": ""
             }
            },
            "type": "scatterpolar"
           }
          ],
          "scatterpolargl": [
           {
            "marker": {
             "colorbar": {
              "outlinewidth": 0,
              "ticks": ""
             }
            },
            "type": "scatterpolargl"
           }
          ],
          "scatterternary": [
           {
            "marker": {
             "colorbar": {
              "outlinewidth": 0,
              "ticks": ""
             }
            },
            "type": "scatterternary"
           }
          ],
          "surface": [
           {
            "colorbar": {
             "outlinewidth": 0,
             "ticks": ""
            },
            "colorscale": [
             [
              0,
              "#0d0887"
             ],
             [
              0.1111111111111111,
              "#46039f"
             ],
             [
              0.2222222222222222,
              "#7201a8"
             ],
             [
              0.3333333333333333,
              "#9c179e"
             ],
             [
              0.4444444444444444,
              "#bd3786"
             ],
             [
              0.5555555555555556,
              "#d8576b"
             ],
             [
              0.6666666666666666,
              "#ed7953"
             ],
             [
              0.7777777777777778,
              "#fb9f3a"
             ],
             [
              0.8888888888888888,
              "#fdca26"
             ],
             [
              1,
              "#f0f921"
             ]
            ],
            "type": "surface"
           }
          ],
          "table": [
           {
            "cells": {
             "fill": {
              "color": "#506784"
             },
             "line": {
              "color": "rgb(17,17,17)"
             }
            },
            "header": {
             "fill": {
              "color": "#2a3f5f"
             },
             "line": {
              "color": "rgb(17,17,17)"
             }
            },
            "type": "table"
           }
          ]
         },
         "layout": {
          "annotationdefaults": {
           "arrowcolor": "#f2f5fa",
           "arrowhead": 0,
           "arrowwidth": 1
          },
          "autotypenumbers": "strict",
          "coloraxis": {
           "colorbar": {
            "outlinewidth": 0,
            "ticks": ""
           }
          },
          "colorscale": {
           "diverging": [
            [
             0,
             "#8e0152"
            ],
            [
             0.1,
             "#c51b7d"
            ],
            [
             0.2,
             "#de77ae"
            ],
            [
             0.3,
             "#f1b6da"
            ],
            [
             0.4,
             "#fde0ef"
            ],
            [
             0.5,
             "#f7f7f7"
            ],
            [
             0.6,
             "#e6f5d0"
            ],
            [
             0.7,
             "#b8e186"
            ],
            [
             0.8,
             "#7fbc41"
            ],
            [
             0.9,
             "#4d9221"
            ],
            [
             1,
             "#276419"
            ]
           ],
           "sequential": [
            [
             0,
             "#0d0887"
            ],
            [
             0.1111111111111111,
             "#46039f"
            ],
            [
             0.2222222222222222,
             "#7201a8"
            ],
            [
             0.3333333333333333,
             "#9c179e"
            ],
            [
             0.4444444444444444,
             "#bd3786"
            ],
            [
             0.5555555555555556,
             "#d8576b"
            ],
            [
             0.6666666666666666,
             "#ed7953"
            ],
            [
             0.7777777777777778,
             "#fb9f3a"
            ],
            [
             0.8888888888888888,
             "#fdca26"
            ],
            [
             1,
             "#f0f921"
            ]
           ],
           "sequentialminus": [
            [
             0,
             "#0d0887"
            ],
            [
             0.1111111111111111,
             "#46039f"
            ],
            [
             0.2222222222222222,
             "#7201a8"
            ],
            [
             0.3333333333333333,
             "#9c179e"
            ],
            [
             0.4444444444444444,
             "#bd3786"
            ],
            [
             0.5555555555555556,
             "#d8576b"
            ],
            [
             0.6666666666666666,
             "#ed7953"
            ],
            [
             0.7777777777777778,
             "#fb9f3a"
            ],
            [
             0.8888888888888888,
             "#fdca26"
            ],
            [
             1,
             "#f0f921"
            ]
           ]
          },
          "colorway": [
           "#636efa",
           "#EF553B",
           "#00cc96",
           "#ab63fa",
           "#FFA15A",
           "#19d3f3",
           "#FF6692",
           "#B6E880",
           "#FF97FF",
           "#FECB52"
          ],
          "font": {
           "color": "#f2f5fa"
          },
          "geo": {
           "bgcolor": "rgb(17,17,17)",
           "lakecolor": "rgb(17,17,17)",
           "landcolor": "rgb(17,17,17)",
           "showlakes": true,
           "showland": true,
           "subunitcolor": "#506784"
          },
          "hoverlabel": {
           "align": "left"
          },
          "hovermode": "closest",
          "mapbox": {
           "style": "dark"
          },
          "paper_bgcolor": "rgb(17,17,17)",
          "plot_bgcolor": "rgb(17,17,17)",
          "polar": {
           "angularaxis": {
            "gridcolor": "#506784",
            "linecolor": "#506784",
            "ticks": ""
           },
           "bgcolor": "rgb(17,17,17)",
           "radialaxis": {
            "gridcolor": "#506784",
            "linecolor": "#506784",
            "ticks": ""
           }
          },
          "scene": {
           "xaxis": {
            "backgroundcolor": "rgb(17,17,17)",
            "gridcolor": "#506784",
            "gridwidth": 2,
            "linecolor": "#506784",
            "showbackground": true,
            "ticks": "",
            "zerolinecolor": "#C8D4E3"
           },
           "yaxis": {
            "backgroundcolor": "rgb(17,17,17)",
            "gridcolor": "#506784",
            "gridwidth": 2,
            "linecolor": "#506784",
            "showbackground": true,
            "ticks": "",
            "zerolinecolor": "#C8D4E3"
           },
           "zaxis": {
            "backgroundcolor": "rgb(17,17,17)",
            "gridcolor": "#506784",
            "gridwidth": 2,
            "linecolor": "#506784",
            "showbackground": true,
            "ticks": "",
            "zerolinecolor": "#C8D4E3"
           }
          },
          "shapedefaults": {
           "line": {
            "color": "#f2f5fa"
           }
          },
          "sliderdefaults": {
           "bgcolor": "#C8D4E3",
           "bordercolor": "rgb(17,17,17)",
           "borderwidth": 1,
           "tickwidth": 0
          },
          "ternary": {
           "aaxis": {
            "gridcolor": "#506784",
            "linecolor": "#506784",
            "ticks": ""
           },
           "baxis": {
            "gridcolor": "#506784",
            "linecolor": "#506784",
            "ticks": ""
           },
           "bgcolor": "rgb(17,17,17)",
           "caxis": {
            "gridcolor": "#506784",
            "linecolor": "#506784",
            "ticks": ""
           }
          },
          "title": {
           "x": 0.05
          },
          "updatemenudefaults": {
           "bgcolor": "#506784",
           "borderwidth": 0
          },
          "xaxis": {
           "automargin": true,
           "gridcolor": "#283442",
           "linecolor": "#506784",
           "ticks": "",
           "title": {
            "standoff": 15
           },
           "zerolinecolor": "#283442",
           "zerolinewidth": 2
          },
          "yaxis": {
           "automargin": true,
           "gridcolor": "#283442",
           "linecolor": "#506784",
           "ticks": "",
           "title": {
            "standoff": 15
           },
           "zerolinecolor": "#283442",
           "zerolinewidth": 2
          }
         }
        },
        "title": {
         "text": "Confirmed Cases In Each Country"
        },
        "xaxis": {
         "title": {
          "text": "Confirmed Cases"
         }
        },
        "yaxis": {
         "title": {
          "text": "Countries"
         }
        }
       }
      },
      "text/html": [
       "<div>                            <div id=\"0e88b99e-77c4-4633-82e4-981bb7972a29\" class=\"plotly-graph-div\" style=\"height:525px; width:100%;\"></div>            <script type=\"text/javascript\">                require([\"plotly\"], function(Plotly) {                    window.PLOTLYENV=window.PLOTLYENV || {};                                    if (document.getElementById(\"0e88b99e-77c4-4633-82e4-981bb7972a29\")) {                    Plotly.newPlot(                        \"0e88b99e-77c4-4633-82e4-981bb7972a29\",                        [{\"name\": \"Confirmed\", \"orientation\": \"h\", \"type\": \"bar\", \"x\": [11036935, 8845127, 5863093, 1915713, 1910149, 1458591, 1372884, 1310491, 1198746, 1178529, 1006522, 934899, 802946, 762068, 751024, 712972, 551533, 535939, 531273, 519152, 467113, 460116, 454961, 432333, 414278, 407838, 360281, 359032, 353255, 323741, 299422, 293177, 257135, 217301, 209776, 203956, 180295, 177355, 150345, 146653, 143678, 143246, 140961, 136840, 135785, 133724, 123223, 121051, 120389, 118611, 117337, 114885, 114185, 110767, 105430, 103102, 102720, 98251, 97352, 89279, 86767, 86346, 84703, 84568, 84206, 80404, 79678, 75688, 74205, 73602, 71956, 71574, 70245, 70243, 68994, 67903, 67679, 66983, 65148, 63031, 62652, 58119, 55042, 50123, 47417, 47050, 43240, 36358, 34758, 29117, 28769, 28434, 27830, 27749, 27177, 25931, 22692, 20976, 19315, 17310, 17287, 17123, 16020, 15793, 14626, 14448, 13508, 13451, 12611, 12204, 11760, 11610, 10547, 9884, 9822, 9168, 9062, 8829, 8225, 8034, 7952, 7637, 7590, 7186, 7178, 6684, 6095, 6080, 5965, 5872, 5661, 5649, 5515, 5458, 5455, 5274, 5189, 5104, 4900, 4861, 4823, 4301, 4030, 3900, 3875, 3702, 3003, 2844, 2675, 2641, 2419, 2391, 2072, 2041, 2001, 1597, 1507, 1307, 1281, 1253, 985, 965, 712, 628, 602, 602, 579, 548, 509, 493, 478, 431, 375, 302, 250, 162, 160, 148, 134, 78, 68, 46, 35, 32, 30, 27, 24, 19, 16, 10, 9, 1, 1], \"y\": [\"US\", \"India\", \"Brazil\", \"France\", \"Russia\", \"Spain\", \"UK\", \"Argentina\", \"Colombia\", \"Italy\", \"Mexico\", \"Peru\", \"Germany\", \"Iran\", \"South Africa\", \"Poland\", \"Ukraine\", \"Belgium\", \"Chile\", \"Iraq\", \"Indonesia\", \"Czech Republic\", \"Netherlands\", \"Bangladesh\", \"Turkey\", \"Philippines\", \"Romania\", \"Pakistan\", \"Saudi Arabia\", \"Israel\", \"Canada\", \"Morocco\", \"Switzerland\", \"Portugal\", \"Nepal\", \"Austria\", \"Ecuador\", \"Sweden\", \"United Arab Emirates\", \"Panama\", \"Jordan\", \"Bolivia\", \"Hungary\", \"Kuwait\", \"Qatar\", \"Dominican Republic\", \"Costa Rica\", \"Kazakhstan\", \"Oman\", \"Japan\", \"Armenia\", \"Guatemala\", \"Belarus\", \"Egypt\", \"Lebanon\", \"Honduras\", \"Ethiopia\", \"Bulgaria\", \"Venezuela\", \"Moldova\", \"Slovakia\", \"China\", \"Bahrain\", \"Serbia\", \"Croatia\", \"Tunisia\", \"Georgia\", \"Azerbaijan\", \"Greece\", \"Libya\", \"Bosnia and Herzegovina\", \"Paraguay\", \"Kenya\", \"Uzbekistan\", \"Burma\", \"Ireland\", \"Algeria\", \"Kyrgyzstan\", \"Nigeria\", \"West Bank and Gaza\", \"Denmark\", \"Singapore\", \"Slovenia\", \"Ghana\", \"Malaysia\", \"North Macedonia\", \"Afghanistan\", \"El Salvador\", \"Lithuania\", \"Kosovo\", \"South Korea\", \"Norway\", \"Albania\", \"Australia\", \"Montenegro\", \"Luxembourg\", \"Cameroon\", \"Ivory Coast\", \"Finland\", \"Madagascar\", \"Sri Lanka\", \"Zambia\", \"Uganda\", \"Senegal\", \"Sudan\", \"Mozambique\", \"Namibia\", \"Angola\", \"Guinea\", \"Maldives\", \"Congo (Kinshasa)\", \"Tajikistan\", \"Latvia\", \"Jamaica\", \"Cabo Verde\", \"Haiti\", \"Gabon\", \"Zimbabwe\", \"Botswana\", \"Malta\", \"Mauritania\", \"Estonia\", \"Cuba\", \"Bahamas\", \"Cyprus\", \"Syria\", \"Eswatini\", \"Trinidad and Tobago\", \"Malawi\", \"Andorra\", \"Nicaragua\", \"Djibouti\", \"Congo (Brazzaville)\", \"Hong Kong\", \"Rwanda\", \"Suriname\", \"Iceland\", \"Equatorial Guinea\", \"Central African Republic\", \"Belize\", \"Guyana\", \"Somalia\", \"Uruguay\", \"Mali\", \"Thailand\", \"Gambia\", \"South Sudan\", \"Benin\", \"Togo\", \"Burkina Faso\", \"Guinea-Bissau\", \"Sierra Leone\", \"Yemen\", \"Lesotho\", \"New Zealand\", \"Chad\", \"Liberia\", \"Niger\", \"Vietnam\", \"San Marino\", \"Liechtenstein\", \"Sao Tome and Principe\", \"Diamond Princess\", \"Burundi\", \"Papua New Guinea\", \"Taiwan\", \"Comoros\", \"Monaco\", \"Tanzania\", \"Eritrea\", \"Mauritius\", \"Mongolia\", \"Bhutan\", \"Cambodia\", \"Barbados\", \"Saint Lucia\", \"Seychelles\", \"Brunei\", \"Antigua and Barbuda\", \"Saint Vincent and the Grenadines\", \"Dominica\", \"Macau\", \"Fiji\", \"Grenada\", \"Timor-Leste\", \"Holy See\", \"Laos\", \"Saint Kitts and Nevis\", \"Solomon Islands\", \"Western Sahara\", \"MS Zaandam\", \"Marshall Islands\", \"Vanuatu\"]}, {\"name\": \"Recovered\", \"orientation\": \"h\", \"type\": \"bar\", \"x\": [4174884, 8249579, 5279452, 139760, 1429565, 150376, 3121, 1129102, 1104956, 420810, 750190, 858388, 505714, 558818, 693467, 294783, 251864, 0, 506700, 447039, 391991, 327306, 6448, 349542, 353663, 374329, 243832, 323824, 340304, 313380, 240434, 238598, 141000, 125066, 173430, 125674, 160639, 0, 143252, 125370, 10067, 117137, 31599, 127585, 132784, 109981, 75341, 109944, 111096, 91954, 74984, 104438, 95843, 101046, 60416, 44778, 63866, 29375, 92373, 70812, 30519, 81332, 82469, 0, 66231, 54362, 62061, 55150, 23074, 44133, 35606, 51375, 45766, 67526, 52351, 23364, 44633, 57760, 61073, 54346, 48259, 58029, 34864, 48328, 34785, 27364, 35092, 32721, 7753, 17305, 25759, 11863, 12889, 25468, 17387, 15428, 21510, 20647, 14000, 16592, 11495, 16137, 8038, 15416, 9571, 12505, 12680, 6444, 11151, 11289, 11086, 10973, 1515, 5248, 9220, 7701, 8939, 8096, 5559, 5765, 7524, 4741, 7060, 5323, 2021, 2714, 5779, 5402, 5399, 4747, 4225, 5525, 3887, 5194, 4995, 5148, 4813, 4973, 1924, 2598, 3777, 3330, 3233, 2949, 3721, 3571, 1290, 2515, 1920, 2445, 2255, 1820, 1394, 1056, 1918, 1443, 1314, 1148, 1103, 888, 682, 917, 659, 549, 586, 536, 549, 450, 183, 444, 431, 328, 355, 289, 238, 46, 157, 145, 127, 77, 41, 46, 32, 27, 30, 15, 23, 19, 5, 8, 0, 1, 0], \"y\": [\"US\", \"India\", \"Brazil\", \"France\", \"Russia\", \"Spain\", \"UK\", \"Argentina\", \"Colombia\", \"Italy\", \"Mexico\", \"Peru\", \"Germany\", \"Iran\", \"South Africa\", \"Poland\", \"Ukraine\", \"Belgium\", \"Chile\", \"Iraq\", \"Indonesia\", \"Czech Republic\", \"Netherlands\", \"Bangladesh\", \"Turkey\", \"Philippines\", \"Romania\", \"Pakistan\", \"Saudi Arabia\", \"Israel\", \"Canada\", \"Morocco\", \"Switzerland\", \"Portugal\", \"Nepal\", \"Austria\", \"Ecuador\", \"Sweden\", \"United Arab Emirates\", \"Panama\", \"Jordan\", \"Bolivia\", \"Hungary\", \"Kuwait\", \"Qatar\", \"Dominican Republic\", \"Costa Rica\", \"Kazakhstan\", \"Oman\", \"Japan\", \"Armenia\", \"Guatemala\", \"Belarus\", \"Egypt\", \"Lebanon\", \"Honduras\", \"Ethiopia\", \"Bulgaria\", \"Venezuela\", \"Moldova\", \"Slovakia\", \"China\", \"Bahrain\", \"Serbia\", \"Croatia\", \"Tunisia\", \"Georgia\", \"Azerbaijan\", \"Greece\", \"Libya\", \"Bosnia and Herzegovina\", \"Paraguay\", \"Kenya\", \"Uzbekistan\", \"Burma\", \"Ireland\", \"Algeria\", \"Kyrgyzstan\", \"Nigeria\", \"West Bank and Gaza\", \"Denmark\", \"Singapore\", \"Slovenia\", \"Ghana\", \"Malaysia\", \"North Macedonia\", \"Afghanistan\", \"El Salvador\", \"Lithuania\", \"Kosovo\", \"South Korea\", \"Norway\", \"Albania\", \"Australia\", \"Montenegro\", \"Luxembourg\", \"Cameroon\", \"Ivory Coast\", \"Finland\", \"Madagascar\", \"Sri Lanka\", \"Zambia\", \"Uganda\", \"Senegal\", \"Sudan\", \"Mozambique\", \"Namibia\", \"Angola\", \"Guinea\", \"Maldives\", \"Congo (Kinshasa)\", \"Tajikistan\", \"Latvia\", \"Jamaica\", \"Cabo Verde\", \"Haiti\", \"Gabon\", \"Zimbabwe\", \"Botswana\", \"Malta\", \"Mauritania\", \"Estonia\", \"Cuba\", \"Bahamas\", \"Cyprus\", \"Syria\", \"Eswatini\", \"Trinidad and Tobago\", \"Malawi\", \"Andorra\", \"Nicaragua\", \"Djibouti\", \"Congo (Brazzaville)\", \"Hong Kong\", \"Rwanda\", \"Suriname\", \"Iceland\", \"Equatorial Guinea\", \"Central African Republic\", \"Belize\", \"Guyana\", \"Somalia\", \"Uruguay\", \"Mali\", \"Thailand\", \"Gambia\", \"South Sudan\", \"Benin\", \"Togo\", \"Burkina Faso\", \"Guinea-Bissau\", \"Sierra Leone\", \"Yemen\", \"Lesotho\", \"New Zealand\", \"Chad\", \"Liberia\", \"Niger\", \"Vietnam\", \"San Marino\", \"Liechtenstein\", \"Sao Tome and Principe\", \"Diamond Princess\", \"Burundi\", \"Papua New Guinea\", \"Taiwan\", \"Comoros\", \"Monaco\", \"Tanzania\", \"Eritrea\", \"Mauritius\", \"Mongolia\", \"Bhutan\", \"Cambodia\", \"Barbados\", \"Saint Lucia\", \"Seychelles\", \"Brunei\", \"Antigua and Barbuda\", \"Saint Vincent and the Grenadines\", \"Dominica\", \"Macau\", \"Fiji\", \"Grenada\", \"Timor-Leste\", \"Holy See\", \"Laos\", \"Saint Kitts and Nevis\", \"Solomon Islands\", \"Western Sahara\", \"MS Zaandam\", \"Marshall Islands\", \"Vanuatu\"]}],                        {\"template\": {\"data\": {\"bar\": [{\"error_x\": {\"color\": \"#f2f5fa\"}, \"error_y\": {\"color\": \"#f2f5fa\"}, \"marker\": {\"line\": {\"color\": \"rgb(17,17,17)\", \"width\": 0.5}}, \"type\": \"bar\"}], \"barpolar\": [{\"marker\": {\"line\": {\"color\": \"rgb(17,17,17)\", \"width\": 0.5}}, \"type\": \"barpolar\"}], \"carpet\": [{\"aaxis\": {\"endlinecolor\": \"#A2B1C6\", \"gridcolor\": \"#506784\", \"linecolor\": \"#506784\", \"minorgridcolor\": \"#506784\", \"startlinecolor\": \"#A2B1C6\"}, \"baxis\": {\"endlinecolor\": \"#A2B1C6\", \"gridcolor\": \"#506784\", \"linecolor\": \"#506784\", \"minorgridcolor\": \"#506784\", \"startlinecolor\": \"#A2B1C6\"}, \"type\": \"carpet\"}], \"choropleth\": [{\"colorbar\": {\"outlinewidth\": 0, \"ticks\": \"\"}, \"type\": \"choropleth\"}], \"contour\": [{\"colorbar\": {\"outlinewidth\": 0, \"ticks\": \"\"}, \"colorscale\": [[0.0, \"#0d0887\"], [0.1111111111111111, \"#46039f\"], [0.2222222222222222, \"#7201a8\"], [0.3333333333333333, \"#9c179e\"], [0.4444444444444444, \"#bd3786\"], [0.5555555555555556, \"#d8576b\"], [0.6666666666666666, \"#ed7953\"], [0.7777777777777778, \"#fb9f3a\"], [0.8888888888888888, \"#fdca26\"], [1.0, \"#f0f921\"]], \"type\": \"contour\"}], \"contourcarpet\": [{\"colorbar\": {\"outlinewidth\": 0, \"ticks\": \"\"}, \"type\": \"contourcarpet\"}], \"heatmap\": [{\"colorbar\": {\"outlinewidth\": 0, \"ticks\": \"\"}, \"colorscale\": [[0.0, \"#0d0887\"], [0.1111111111111111, \"#46039f\"], [0.2222222222222222, \"#7201a8\"], [0.3333333333333333, \"#9c179e\"], [0.4444444444444444, \"#bd3786\"], [0.5555555555555556, \"#d8576b\"], [0.6666666666666666, \"#ed7953\"], [0.7777777777777778, \"#fb9f3a\"], [0.8888888888888888, \"#fdca26\"], [1.0, \"#f0f921\"]], \"type\": \"heatmap\"}], \"heatmapgl\": [{\"colorbar\": {\"outlinewidth\": 0, \"ticks\": \"\"}, \"colorscale\": [[0.0, \"#0d0887\"], [0.1111111111111111, \"#46039f\"], [0.2222222222222222, \"#7201a8\"], [0.3333333333333333, \"#9c179e\"], [0.4444444444444444, \"#bd3786\"], [0.5555555555555556, \"#d8576b\"], [0.6666666666666666, \"#ed7953\"], [0.7777777777777778, \"#fb9f3a\"], [0.8888888888888888, \"#fdca26\"], [1.0, \"#f0f921\"]], \"type\": \"heatmapgl\"}], \"histogram\": [{\"marker\": {\"colorbar\": {\"outlinewidth\": 0, \"ticks\": \"\"}}, \"type\": \"histogram\"}], \"histogram2d\": [{\"colorbar\": {\"outlinewidth\": 0, \"ticks\": \"\"}, \"colorscale\": [[0.0, \"#0d0887\"], [0.1111111111111111, \"#46039f\"], [0.2222222222222222, \"#7201a8\"], [0.3333333333333333, \"#9c179e\"], [0.4444444444444444, \"#bd3786\"], [0.5555555555555556, \"#d8576b\"], [0.6666666666666666, \"#ed7953\"], [0.7777777777777778, \"#fb9f3a\"], [0.8888888888888888, \"#fdca26\"], [1.0, \"#f0f921\"]], \"type\": \"histogram2d\"}], \"histogram2dcontour\": [{\"colorbar\": {\"outlinewidth\": 0, \"ticks\": \"\"}, \"colorscale\": [[0.0, \"#0d0887\"], [0.1111111111111111, \"#46039f\"], [0.2222222222222222, \"#7201a8\"], [0.3333333333333333, \"#9c179e\"], [0.4444444444444444, \"#bd3786\"], [0.5555555555555556, \"#d8576b\"], [0.6666666666666666, \"#ed7953\"], [0.7777777777777778, \"#fb9f3a\"], [0.8888888888888888, \"#fdca26\"], [1.0, \"#f0f921\"]], \"type\": \"histogram2dcontour\"}], \"mesh3d\": [{\"colorbar\": {\"outlinewidth\": 0, \"ticks\": \"\"}, \"type\": \"mesh3d\"}], \"parcoords\": [{\"line\": {\"colorbar\": {\"outlinewidth\": 0, \"ticks\": \"\"}}, \"type\": \"parcoords\"}], \"pie\": [{\"automargin\": true, \"type\": \"pie\"}], \"scatter\": [{\"marker\": {\"line\": {\"color\": \"#283442\"}}, \"type\": \"scatter\"}], \"scatter3d\": [{\"line\": {\"colorbar\": {\"outlinewidth\": 0, \"ticks\": \"\"}}, \"marker\": {\"colorbar\": {\"outlinewidth\": 0, \"ticks\": \"\"}}, \"type\": \"scatter3d\"}], \"scattercarpet\": [{\"marker\": {\"colorbar\": {\"outlinewidth\": 0, \"ticks\": \"\"}}, \"type\": \"scattercarpet\"}], \"scattergeo\": [{\"marker\": {\"colorbar\": {\"outlinewidth\": 0, \"ticks\": \"\"}}, \"type\": \"scattergeo\"}], \"scattergl\": [{\"marker\": {\"line\": {\"color\": \"#283442\"}}, \"type\": \"scattergl\"}], \"scattermapbox\": [{\"marker\": {\"colorbar\": {\"outlinewidth\": 0, \"ticks\": \"\"}}, \"type\": \"scattermapbox\"}], \"scatterpolar\": [{\"marker\": {\"colorbar\": {\"outlinewidth\": 0, \"ticks\": \"\"}}, \"type\": \"scatterpolar\"}], \"scatterpolargl\": [{\"marker\": {\"colorbar\": {\"outlinewidth\": 0, \"ticks\": \"\"}}, \"type\": \"scatterpolargl\"}], \"scatterternary\": [{\"marker\": {\"colorbar\": {\"outlinewidth\": 0, \"ticks\": \"\"}}, \"type\": \"scatterternary\"}], \"surface\": [{\"colorbar\": {\"outlinewidth\": 0, \"ticks\": \"\"}, \"colorscale\": [[0.0, \"#0d0887\"], [0.1111111111111111, \"#46039f\"], [0.2222222222222222, \"#7201a8\"], [0.3333333333333333, \"#9c179e\"], [0.4444444444444444, \"#bd3786\"], [0.5555555555555556, \"#d8576b\"], [0.6666666666666666, \"#ed7953\"], [0.7777777777777778, \"#fb9f3a\"], [0.8888888888888888, \"#fdca26\"], [1.0, \"#f0f921\"]], \"type\": \"surface\"}], \"table\": [{\"cells\": {\"fill\": {\"color\": \"#506784\"}, \"line\": {\"color\": \"rgb(17,17,17)\"}}, \"header\": {\"fill\": {\"color\": \"#2a3f5f\"}, \"line\": {\"color\": \"rgb(17,17,17)\"}}, \"type\": \"table\"}]}, \"layout\": {\"annotationdefaults\": {\"arrowcolor\": \"#f2f5fa\", \"arrowhead\": 0, \"arrowwidth\": 1}, \"autotypenumbers\": \"strict\", \"coloraxis\": {\"colorbar\": {\"outlinewidth\": 0, \"ticks\": \"\"}}, \"colorscale\": {\"diverging\": [[0, \"#8e0152\"], [0.1, \"#c51b7d\"], [0.2, \"#de77ae\"], [0.3, \"#f1b6da\"], [0.4, \"#fde0ef\"], [0.5, \"#f7f7f7\"], [0.6, \"#e6f5d0\"], [0.7, \"#b8e186\"], [0.8, \"#7fbc41\"], [0.9, \"#4d9221\"], [1, \"#276419\"]], \"sequential\": [[0.0, \"#0d0887\"], [0.1111111111111111, \"#46039f\"], [0.2222222222222222, \"#7201a8\"], [0.3333333333333333, \"#9c179e\"], [0.4444444444444444, \"#bd3786\"], [0.5555555555555556, \"#d8576b\"], [0.6666666666666666, \"#ed7953\"], [0.7777777777777778, \"#fb9f3a\"], [0.8888888888888888, \"#fdca26\"], [1.0, \"#f0f921\"]], \"sequentialminus\": [[0.0, \"#0d0887\"], [0.1111111111111111, \"#46039f\"], [0.2222222222222222, \"#7201a8\"], [0.3333333333333333, \"#9c179e\"], [0.4444444444444444, \"#bd3786\"], [0.5555555555555556, \"#d8576b\"], [0.6666666666666666, \"#ed7953\"], [0.7777777777777778, \"#fb9f3a\"], [0.8888888888888888, \"#fdca26\"], [1.0, \"#f0f921\"]]}, \"colorway\": [\"#636efa\", \"#EF553B\", \"#00cc96\", \"#ab63fa\", \"#FFA15A\", \"#19d3f3\", \"#FF6692\", \"#B6E880\", \"#FF97FF\", \"#FECB52\"], \"font\": {\"color\": \"#f2f5fa\"}, \"geo\": {\"bgcolor\": \"rgb(17,17,17)\", \"lakecolor\": \"rgb(17,17,17)\", \"landcolor\": \"rgb(17,17,17)\", \"showlakes\": true, \"showland\": true, \"subunitcolor\": \"#506784\"}, \"hoverlabel\": {\"align\": \"left\"}, \"hovermode\": \"closest\", \"mapbox\": {\"style\": \"dark\"}, \"paper_bgcolor\": \"rgb(17,17,17)\", \"plot_bgcolor\": \"rgb(17,17,17)\", \"polar\": {\"angularaxis\": {\"gridcolor\": \"#506784\", \"linecolor\": \"#506784\", \"ticks\": \"\"}, \"bgcolor\": \"rgb(17,17,17)\", \"radialaxis\": {\"gridcolor\": \"#506784\", \"linecolor\": \"#506784\", \"ticks\": \"\"}}, \"scene\": {\"xaxis\": {\"backgroundcolor\": \"rgb(17,17,17)\", \"gridcolor\": \"#506784\", \"gridwidth\": 2, \"linecolor\": \"#506784\", \"showbackground\": true, \"ticks\": \"\", \"zerolinecolor\": \"#C8D4E3\"}, \"yaxis\": {\"backgroundcolor\": \"rgb(17,17,17)\", \"gridcolor\": \"#506784\", \"gridwidth\": 2, \"linecolor\": \"#506784\", \"showbackground\": true, \"ticks\": \"\", \"zerolinecolor\": \"#C8D4E3\"}, \"zaxis\": {\"backgroundcolor\": \"rgb(17,17,17)\", \"gridcolor\": \"#506784\", \"gridwidth\": 2, \"linecolor\": \"#506784\", \"showbackground\": true, \"ticks\": \"\", \"zerolinecolor\": \"#C8D4E3\"}}, \"shapedefaults\": {\"line\": {\"color\": \"#f2f5fa\"}}, \"sliderdefaults\": {\"bgcolor\": \"#C8D4E3\", \"bordercolor\": \"rgb(17,17,17)\", \"borderwidth\": 1, \"tickwidth\": 0}, \"ternary\": {\"aaxis\": {\"gridcolor\": \"#506784\", \"linecolor\": \"#506784\", \"ticks\": \"\"}, \"baxis\": {\"gridcolor\": \"#506784\", \"linecolor\": \"#506784\", \"ticks\": \"\"}, \"bgcolor\": \"rgb(17,17,17)\", \"caxis\": {\"gridcolor\": \"#506784\", \"linecolor\": \"#506784\", \"ticks\": \"\"}}, \"title\": {\"x\": 0.05}, \"updatemenudefaults\": {\"bgcolor\": \"#506784\", \"borderwidth\": 0}, \"xaxis\": {\"automargin\": true, \"gridcolor\": \"#283442\", \"linecolor\": \"#506784\", \"ticks\": \"\", \"title\": {\"standoff\": 15}, \"zerolinecolor\": \"#283442\", \"zerolinewidth\": 2}, \"yaxis\": {\"automargin\": true, \"gridcolor\": \"#283442\", \"linecolor\": \"#506784\", \"ticks\": \"\", \"title\": {\"standoff\": 15}, \"zerolinecolor\": \"#283442\", \"zerolinewidth\": 2}}}, \"title\": {\"text\": \"Confirmed Cases In Each Country\"}, \"xaxis\": {\"title\": {\"text\": \"Confirmed Cases\"}}, \"yaxis\": {\"title\": {\"text\": \"Countries\"}}},                        {\"responsive\": true}                    ).then(function(){\n",
       "                            \n",
       "var gd = document.getElementById('0e88b99e-77c4-4633-82e4-981bb7972a29');\n",
       "var x = new MutationObserver(function (mutations, observer) {{\n",
       "        var display = window.getComputedStyle(gd).display;\n",
       "        if (!display || display === 'none') {{\n",
       "            console.log([gd, 'removed!']);\n",
       "            Plotly.purge(gd);\n",
       "            observer.disconnect();\n",
       "        }}\n",
       "}});\n",
       "\n",
       "// Listen for the removal of the full notebook cells\n",
       "var notebookContainer = gd.closest('#notebook-container');\n",
       "if (notebookContainer) {{\n",
       "    x.observe(notebookContainer, {childList: true});\n",
       "}}\n",
       "\n",
       "// Listen for the clearing of the current output cell\n",
       "var outputEl = gd.closest('.output');\n",
       "if (outputEl) {{\n",
       "    x.observe(outputEl, {childList: true});\n",
       "}}\n",
       "\n",
       "                        })                };                });            </script>        </div>"
      ]
     },
     "metadata": {},
     "output_type": "display_data"
    }
   ],
   "source": [
    "# cases by contry\n",
    "Data_country = Data.groupby([\"Country/Region\"])[\"Confirmed\",\"ActiveCase\",\"Recovered\",\"Deaths\"].sum().reset_index().sort_values(\"Confirmed\",ascending=False).reset_index(drop=True)\n",
    "# \n",
    "# \n",
    "fig = go.Figure(data=[go.Bar( name = 'Confirmed',\n",
    "            x=Data_country['Confirmed'],\n",
    "            y=Data_country['Country/Region'],\n",
    "            orientation='h'),\n",
    "                      go.Bar( name = 'Recovered',\n",
    "            x=Data_country['Recovered'],\n",
    "            y=Data_country['Country/Region'],\n",
    "            orientation='h')\n",
    "                     ])\n",
    "fig.update_layout(\n",
    "    title='Confirmed Cases In Each Country',\n",
    "    template='plotly_dark',\n",
    "     xaxis_title=\"Confirmed Cases\",\n",
    "    yaxis_title=\"Countries\",\n",
    ")\n",
    "fig.show()"
   ]
  },
  {
   "cell_type": "code",
   "execution_count": 19,
   "metadata": {},
   "outputs": [
    {
     "data": {
      "application/vnd.plotly.v1+json": {
       "config": {
        "plotlyServerURL": "https://plot.ly"
       },
       "data": [
        {
         "coloraxis": "coloraxis",
         "geo": "geo",
         "hovertemplate": "<b>%{hovertext}</b><br><br>Country/Region=%{location}<br>Confirmed=%{z}<extra></extra>",
         "hovertext": [
          "US",
          "India",
          "Brazil",
          "France",
          "Russia",
          "Spain",
          "UK",
          "Argentina",
          "Colombia",
          "Italy",
          "Mexico",
          "Peru",
          "Germany",
          "Iran",
          "South Africa",
          "Poland",
          "Ukraine",
          "Belgium",
          "Chile",
          "Iraq",
          "Indonesia",
          "Czech Republic",
          "Netherlands",
          "Bangladesh",
          "Turkey",
          "Philippines",
          "Romania",
          "Pakistan",
          "Saudi Arabia",
          "Israel",
          "Canada",
          "Morocco",
          "Switzerland",
          "Portugal",
          "Nepal",
          "Austria",
          "Ecuador",
          "Sweden",
          "United Arab Emirates",
          "Panama",
          "Jordan",
          "Bolivia",
          "Hungary",
          "Kuwait",
          "Qatar",
          "Dominican Republic",
          "Costa Rica",
          "Kazakhstan",
          "Oman",
          "Japan",
          "Armenia",
          "Guatemala",
          "Belarus",
          "Egypt",
          "Lebanon",
          "Honduras",
          "Ethiopia",
          "Bulgaria",
          "Venezuela",
          "Moldova",
          "Slovakia",
          "China",
          "Bahrain",
          "Serbia",
          "Croatia",
          "Tunisia",
          "Georgia",
          "Azerbaijan",
          "Greece",
          "Libya",
          "Bosnia and Herzegovina",
          "Paraguay",
          "Kenya",
          "Uzbekistan",
          "Burma",
          "Ireland",
          "Algeria",
          "Kyrgyzstan",
          "Nigeria",
          "West Bank and Gaza",
          "Denmark",
          "Singapore",
          "Slovenia",
          "Ghana",
          "Malaysia",
          "North Macedonia",
          "Afghanistan",
          "El Salvador",
          "Lithuania",
          "Kosovo",
          "South Korea",
          "Norway",
          "Albania",
          "Australia",
          "Montenegro",
          "Luxembourg",
          "Cameroon",
          "Ivory Coast",
          "Finland",
          "Madagascar",
          "Sri Lanka",
          "Zambia",
          "Uganda",
          "Senegal",
          "Sudan",
          "Mozambique",
          "Namibia",
          "Angola",
          "Guinea",
          "Maldives",
          "Congo (Kinshasa)",
          "Tajikistan",
          "Latvia",
          "Jamaica",
          "Cabo Verde",
          "Haiti",
          "Gabon",
          "Zimbabwe",
          "Botswana",
          "Malta",
          "Mauritania",
          "Estonia",
          "Cuba",
          "Bahamas",
          "Cyprus",
          "Syria",
          "Eswatini",
          "Trinidad and Tobago",
          "Malawi",
          "Andorra",
          "Nicaragua",
          "Djibouti",
          "Congo (Brazzaville)",
          "Hong Kong",
          "Rwanda",
          "Suriname",
          "Iceland",
          "Equatorial Guinea",
          "Central African Republic",
          "Belize",
          "Guyana",
          "Somalia",
          "Uruguay",
          "Mali",
          "Thailand",
          "Gambia",
          "South Sudan",
          "Benin",
          "Togo",
          "Burkina Faso",
          "Guinea-Bissau",
          "Sierra Leone",
          "Yemen",
          "Lesotho",
          "New Zealand",
          "Chad",
          "Liberia",
          "Niger",
          "Vietnam",
          "San Marino",
          "Liechtenstein",
          "Sao Tome and Principe",
          "Diamond Princess",
          "Burundi",
          "Papua New Guinea",
          "Taiwan",
          "Comoros",
          "Monaco",
          "Tanzania",
          "Eritrea",
          "Mauritius",
          "Mongolia",
          "Bhutan",
          "Cambodia",
          "Barbados",
          "Saint Lucia",
          "Seychelles",
          "Brunei",
          "Antigua and Barbuda",
          "Saint Vincent and the Grenadines",
          "Dominica",
          "Macau",
          "Fiji",
          "Grenada",
          "Timor-Leste",
          "Holy See",
          "Laos",
          "Saint Kitts and Nevis",
          "Solomon Islands",
          "Western Sahara",
          "MS Zaandam",
          "Marshall Islands",
          "Vanuatu"
         ],
         "locationmode": "country names",
         "locations": [
          "US",
          "India",
          "Brazil",
          "France",
          "Russia",
          "Spain",
          "UK",
          "Argentina",
          "Colombia",
          "Italy",
          "Mexico",
          "Peru",
          "Germany",
          "Iran",
          "South Africa",
          "Poland",
          "Ukraine",
          "Belgium",
          "Chile",
          "Iraq",
          "Indonesia",
          "Czech Republic",
          "Netherlands",
          "Bangladesh",
          "Turkey",
          "Philippines",
          "Romania",
          "Pakistan",
          "Saudi Arabia",
          "Israel",
          "Canada",
          "Morocco",
          "Switzerland",
          "Portugal",
          "Nepal",
          "Austria",
          "Ecuador",
          "Sweden",
          "United Arab Emirates",
          "Panama",
          "Jordan",
          "Bolivia",
          "Hungary",
          "Kuwait",
          "Qatar",
          "Dominican Republic",
          "Costa Rica",
          "Kazakhstan",
          "Oman",
          "Japan",
          "Armenia",
          "Guatemala",
          "Belarus",
          "Egypt",
          "Lebanon",
          "Honduras",
          "Ethiopia",
          "Bulgaria",
          "Venezuela",
          "Moldova",
          "Slovakia",
          "China",
          "Bahrain",
          "Serbia",
          "Croatia",
          "Tunisia",
          "Georgia",
          "Azerbaijan",
          "Greece",
          "Libya",
          "Bosnia and Herzegovina",
          "Paraguay",
          "Kenya",
          "Uzbekistan",
          "Burma",
          "Ireland",
          "Algeria",
          "Kyrgyzstan",
          "Nigeria",
          "West Bank and Gaza",
          "Denmark",
          "Singapore",
          "Slovenia",
          "Ghana",
          "Malaysia",
          "North Macedonia",
          "Afghanistan",
          "El Salvador",
          "Lithuania",
          "Kosovo",
          "South Korea",
          "Norway",
          "Albania",
          "Australia",
          "Montenegro",
          "Luxembourg",
          "Cameroon",
          "Ivory Coast",
          "Finland",
          "Madagascar",
          "Sri Lanka",
          "Zambia",
          "Uganda",
          "Senegal",
          "Sudan",
          "Mozambique",
          "Namibia",
          "Angola",
          "Guinea",
          "Maldives",
          "Congo (Kinshasa)",
          "Tajikistan",
          "Latvia",
          "Jamaica",
          "Cabo Verde",
          "Haiti",
          "Gabon",
          "Zimbabwe",
          "Botswana",
          "Malta",
          "Mauritania",
          "Estonia",
          "Cuba",
          "Bahamas",
          "Cyprus",
          "Syria",
          "Eswatini",
          "Trinidad and Tobago",
          "Malawi",
          "Andorra",
          "Nicaragua",
          "Djibouti",
          "Congo (Brazzaville)",
          "Hong Kong",
          "Rwanda",
          "Suriname",
          "Iceland",
          "Equatorial Guinea",
          "Central African Republic",
          "Belize",
          "Guyana",
          "Somalia",
          "Uruguay",
          "Mali",
          "Thailand",
          "Gambia",
          "South Sudan",
          "Benin",
          "Togo",
          "Burkina Faso",
          "Guinea-Bissau",
          "Sierra Leone",
          "Yemen",
          "Lesotho",
          "New Zealand",
          "Chad",
          "Liberia",
          "Niger",
          "Vietnam",
          "San Marino",
          "Liechtenstein",
          "Sao Tome and Principe",
          "Diamond Princess",
          "Burundi",
          "Papua New Guinea",
          "Taiwan",
          "Comoros",
          "Monaco",
          "Tanzania",
          "Eritrea",
          "Mauritius",
          "Mongolia",
          "Bhutan",
          "Cambodia",
          "Barbados",
          "Saint Lucia",
          "Seychelles",
          "Brunei",
          "Antigua and Barbuda",
          "Saint Vincent and the Grenadines",
          "Dominica",
          "Macau",
          "Fiji",
          "Grenada",
          "Timor-Leste",
          "Holy See",
          "Laos",
          "Saint Kitts and Nevis",
          "Solomon Islands",
          "Western Sahara",
          "MS Zaandam",
          "Marshall Islands",
          "Vanuatu"
         ],
         "name": "",
         "type": "choropleth",
         "z": [
          11036935,
          8845127,
          5863093,
          1915713,
          1910149,
          1458591,
          1372884,
          1310491,
          1198746,
          1178529,
          1006522,
          934899,
          802946,
          762068,
          751024,
          712972,
          551533,
          535939,
          531273,
          519152,
          467113,
          460116,
          454961,
          432333,
          414278,
          407838,
          360281,
          359032,
          353255,
          323741,
          299422,
          293177,
          257135,
          217301,
          209776,
          203956,
          180295,
          177355,
          150345,
          146653,
          143678,
          143246,
          140961,
          136840,
          135785,
          133724,
          123223,
          121051,
          120389,
          118611,
          117337,
          114885,
          114185,
          110767,
          105430,
          103102,
          102720,
          98251,
          97352,
          89279,
          86767,
          86346,
          84703,
          84568,
          84206,
          80404,
          79678,
          75688,
          74205,
          73602,
          71956,
          71574,
          70245,
          70243,
          68994,
          67903,
          67679,
          66983,
          65148,
          63031,
          62652,
          58119,
          55042,
          50123,
          47417,
          47050,
          43240,
          36358,
          34758,
          29117,
          28769,
          28434,
          27830,
          27749,
          27177,
          25931,
          22692,
          20976,
          19315,
          17310,
          17287,
          17123,
          16020,
          15793,
          14626,
          14448,
          13508,
          13451,
          12611,
          12204,
          11760,
          11610,
          10547,
          9884,
          9822,
          9168,
          9062,
          8829,
          8225,
          8034,
          7952,
          7637,
          7590,
          7186,
          7178,
          6684,
          6095,
          6080,
          5965,
          5872,
          5661,
          5649,
          5515,
          5458,
          5455,
          5274,
          5189,
          5104,
          4900,
          4861,
          4823,
          4301,
          4030,
          3900,
          3875,
          3702,
          3003,
          2844,
          2675,
          2641,
          2419,
          2391,
          2072,
          2041,
          2001,
          1597,
          1507,
          1307,
          1281,
          1253,
          985,
          965,
          712,
          628,
          602,
          602,
          579,
          548,
          509,
          493,
          478,
          431,
          375,
          302,
          250,
          162,
          160,
          148,
          134,
          78,
          68,
          46,
          35,
          32,
          30,
          27,
          24,
          19,
          16,
          10,
          9,
          1,
          1
         ]
        }
       ],
       "layout": {
        "coloraxis": {
         "colorbar": {
          "title": {
           "text": "Confirmed"
          }
         },
         "colorscale": [
          [
           0,
           "rgb(176, 242, 188)"
          ],
          [
           0.16666666666666666,
           "rgb(137, 232, 172)"
          ],
          [
           0.3333333333333333,
           "rgb(103, 219, 165)"
          ],
          [
           0.5,
           "rgb(76, 200, 163)"
          ],
          [
           0.6666666666666666,
           "rgb(56, 178, 163)"
          ],
          [
           0.8333333333333334,
           "rgb(44, 152, 160)"
          ],
          [
           1,
           "rgb(37, 125, 152)"
          ]
         ]
        },
        "geo": {
         "center": {},
         "domain": {
          "x": [
           0,
           1
          ],
          "y": [
           0,
           1
          ]
         }
        },
        "legend": {
         "tracegroupgap": 0
        },
        "margin": {
         "t": 60
        },
        "template": {
         "data": {
          "bar": [
           {
            "error_x": {
             "color": "#2a3f5f"
            },
            "error_y": {
             "color": "#2a3f5f"
            },
            "marker": {
             "line": {
              "color": "white",
              "width": 0.5
             }
            },
            "type": "bar"
           }
          ],
          "barpolar": [
           {
            "marker": {
             "line": {
              "color": "white",
              "width": 0.5
             }
            },
            "type": "barpolar"
           }
          ],
          "carpet": [
           {
            "aaxis": {
             "endlinecolor": "#2a3f5f",
             "gridcolor": "#C8D4E3",
             "linecolor": "#C8D4E3",
             "minorgridcolor": "#C8D4E3",
             "startlinecolor": "#2a3f5f"
            },
            "baxis": {
             "endlinecolor": "#2a3f5f",
             "gridcolor": "#C8D4E3",
             "linecolor": "#C8D4E3",
             "minorgridcolor": "#C8D4E3",
             "startlinecolor": "#2a3f5f"
            },
            "type": "carpet"
           }
          ],
          "choropleth": [
           {
            "colorbar": {
             "outlinewidth": 0,
             "ticks": ""
            },
            "type": "choropleth"
           }
          ],
          "contour": [
           {
            "colorbar": {
             "outlinewidth": 0,
             "ticks": ""
            },
            "colorscale": [
             [
              0,
              "#0d0887"
             ],
             [
              0.1111111111111111,
              "#46039f"
             ],
             [
              0.2222222222222222,
              "#7201a8"
             ],
             [
              0.3333333333333333,
              "#9c179e"
             ],
             [
              0.4444444444444444,
              "#bd3786"
             ],
             [
              0.5555555555555556,
              "#d8576b"
             ],
             [
              0.6666666666666666,
              "#ed7953"
             ],
             [
              0.7777777777777778,
              "#fb9f3a"
             ],
             [
              0.8888888888888888,
              "#fdca26"
             ],
             [
              1,
              "#f0f921"
             ]
            ],
            "type": "contour"
           }
          ],
          "contourcarpet": [
           {
            "colorbar": {
             "outlinewidth": 0,
             "ticks": ""
            },
            "type": "contourcarpet"
           }
          ],
          "heatmap": [
           {
            "colorbar": {
             "outlinewidth": 0,
             "ticks": ""
            },
            "colorscale": [
             [
              0,
              "#0d0887"
             ],
             [
              0.1111111111111111,
              "#46039f"
             ],
             [
              0.2222222222222222,
              "#7201a8"
             ],
             [
              0.3333333333333333,
              "#9c179e"
             ],
             [
              0.4444444444444444,
              "#bd3786"
             ],
             [
              0.5555555555555556,
              "#d8576b"
             ],
             [
              0.6666666666666666,
              "#ed7953"
             ],
             [
              0.7777777777777778,
              "#fb9f3a"
             ],
             [
              0.8888888888888888,
              "#fdca26"
             ],
             [
              1,
              "#f0f921"
             ]
            ],
            "type": "heatmap"
           }
          ],
          "heatmapgl": [
           {
            "colorbar": {
             "outlinewidth": 0,
             "ticks": ""
            },
            "colorscale": [
             [
              0,
              "#0d0887"
             ],
             [
              0.1111111111111111,
              "#46039f"
             ],
             [
              0.2222222222222222,
              "#7201a8"
             ],
             [
              0.3333333333333333,
              "#9c179e"
             ],
             [
              0.4444444444444444,
              "#bd3786"
             ],
             [
              0.5555555555555556,
              "#d8576b"
             ],
             [
              0.6666666666666666,
              "#ed7953"
             ],
             [
              0.7777777777777778,
              "#fb9f3a"
             ],
             [
              0.8888888888888888,
              "#fdca26"
             ],
             [
              1,
              "#f0f921"
             ]
            ],
            "type": "heatmapgl"
           }
          ],
          "histogram": [
           {
            "marker": {
             "colorbar": {
              "outlinewidth": 0,
              "ticks": ""
             }
            },
            "type": "histogram"
           }
          ],
          "histogram2d": [
           {
            "colorbar": {
             "outlinewidth": 0,
             "ticks": ""
            },
            "colorscale": [
             [
              0,
              "#0d0887"
             ],
             [
              0.1111111111111111,
              "#46039f"
             ],
             [
              0.2222222222222222,
              "#7201a8"
             ],
             [
              0.3333333333333333,
              "#9c179e"
             ],
             [
              0.4444444444444444,
              "#bd3786"
             ],
             [
              0.5555555555555556,
              "#d8576b"
             ],
             [
              0.6666666666666666,
              "#ed7953"
             ],
             [
              0.7777777777777778,
              "#fb9f3a"
             ],
             [
              0.8888888888888888,
              "#fdca26"
             ],
             [
              1,
              "#f0f921"
             ]
            ],
            "type": "histogram2d"
           }
          ],
          "histogram2dcontour": [
           {
            "colorbar": {
             "outlinewidth": 0,
             "ticks": ""
            },
            "colorscale": [
             [
              0,
              "#0d0887"
             ],
             [
              0.1111111111111111,
              "#46039f"
             ],
             [
              0.2222222222222222,
              "#7201a8"
             ],
             [
              0.3333333333333333,
              "#9c179e"
             ],
             [
              0.4444444444444444,
              "#bd3786"
             ],
             [
              0.5555555555555556,
              "#d8576b"
             ],
             [
              0.6666666666666666,
              "#ed7953"
             ],
             [
              0.7777777777777778,
              "#fb9f3a"
             ],
             [
              0.8888888888888888,
              "#fdca26"
             ],
             [
              1,
              "#f0f921"
             ]
            ],
            "type": "histogram2dcontour"
           }
          ],
          "mesh3d": [
           {
            "colorbar": {
             "outlinewidth": 0,
             "ticks": ""
            },
            "type": "mesh3d"
           }
          ],
          "parcoords": [
           {
            "line": {
             "colorbar": {
              "outlinewidth": 0,
              "ticks": ""
             }
            },
            "type": "parcoords"
           }
          ],
          "pie": [
           {
            "automargin": true,
            "type": "pie"
           }
          ],
          "scatter": [
           {
            "marker": {
             "colorbar": {
              "outlinewidth": 0,
              "ticks": ""
             }
            },
            "type": "scatter"
           }
          ],
          "scatter3d": [
           {
            "line": {
             "colorbar": {
              "outlinewidth": 0,
              "ticks": ""
             }
            },
            "marker": {
             "colorbar": {
              "outlinewidth": 0,
              "ticks": ""
             }
            },
            "type": "scatter3d"
           }
          ],
          "scattercarpet": [
           {
            "marker": {
             "colorbar": {
              "outlinewidth": 0,
              "ticks": ""
             }
            },
            "type": "scattercarpet"
           }
          ],
          "scattergeo": [
           {
            "marker": {
             "colorbar": {
              "outlinewidth": 0,
              "ticks": ""
             }
            },
            "type": "scattergeo"
           }
          ],
          "scattergl": [
           {
            "marker": {
             "colorbar": {
              "outlinewidth": 0,
              "ticks": ""
             }
            },
            "type": "scattergl"
           }
          ],
          "scattermapbox": [
           {
            "marker": {
             "colorbar": {
              "outlinewidth": 0,
              "ticks": ""
             }
            },
            "type": "scattermapbox"
           }
          ],
          "scatterpolar": [
           {
            "marker": {
             "colorbar": {
              "outlinewidth": 0,
              "ticks": ""
             }
            },
            "type": "scatterpolar"
           }
          ],
          "scatterpolargl": [
           {
            "marker": {
             "colorbar": {
              "outlinewidth": 0,
              "ticks": ""
             }
            },
            "type": "scatterpolargl"
           }
          ],
          "scatterternary": [
           {
            "marker": {
             "colorbar": {
              "outlinewidth": 0,
              "ticks": ""
             }
            },
            "type": "scatterternary"
           }
          ],
          "surface": [
           {
            "colorbar": {
             "outlinewidth": 0,
             "ticks": ""
            },
            "colorscale": [
             [
              0,
              "#0d0887"
             ],
             [
              0.1111111111111111,
              "#46039f"
             ],
             [
              0.2222222222222222,
              "#7201a8"
             ],
             [
              0.3333333333333333,
              "#9c179e"
             ],
             [
              0.4444444444444444,
              "#bd3786"
             ],
             [
              0.5555555555555556,
              "#d8576b"
             ],
             [
              0.6666666666666666,
              "#ed7953"
             ],
             [
              0.7777777777777778,
              "#fb9f3a"
             ],
             [
              0.8888888888888888,
              "#fdca26"
             ],
             [
              1,
              "#f0f921"
             ]
            ],
            "type": "surface"
           }
          ],
          "table": [
           {
            "cells": {
             "fill": {
              "color": "#EBF0F8"
             },
             "line": {
              "color": "white"
             }
            },
            "header": {
             "fill": {
              "color": "#C8D4E3"
             },
             "line": {
              "color": "white"
             }
            },
            "type": "table"
           }
          ]
         },
         "layout": {
          "annotationdefaults": {
           "arrowcolor": "#2a3f5f",
           "arrowhead": 0,
           "arrowwidth": 1
          },
          "autotypenumbers": "strict",
          "coloraxis": {
           "colorbar": {
            "outlinewidth": 0,
            "ticks": ""
           }
          },
          "colorscale": {
           "diverging": [
            [
             0,
             "#8e0152"
            ],
            [
             0.1,
             "#c51b7d"
            ],
            [
             0.2,
             "#de77ae"
            ],
            [
             0.3,
             "#f1b6da"
            ],
            [
             0.4,
             "#fde0ef"
            ],
            [
             0.5,
             "#f7f7f7"
            ],
            [
             0.6,
             "#e6f5d0"
            ],
            [
             0.7,
             "#b8e186"
            ],
            [
             0.8,
             "#7fbc41"
            ],
            [
             0.9,
             "#4d9221"
            ],
            [
             1,
             "#276419"
            ]
           ],
           "sequential": [
            [
             0,
             "#0d0887"
            ],
            [
             0.1111111111111111,
             "#46039f"
            ],
            [
             0.2222222222222222,
             "#7201a8"
            ],
            [
             0.3333333333333333,
             "#9c179e"
            ],
            [
             0.4444444444444444,
             "#bd3786"
            ],
            [
             0.5555555555555556,
             "#d8576b"
            ],
            [
             0.6666666666666666,
             "#ed7953"
            ],
            [
             0.7777777777777778,
             "#fb9f3a"
            ],
            [
             0.8888888888888888,
             "#fdca26"
            ],
            [
             1,
             "#f0f921"
            ]
           ],
           "sequentialminus": [
            [
             0,
             "#0d0887"
            ],
            [
             0.1111111111111111,
             "#46039f"
            ],
            [
             0.2222222222222222,
             "#7201a8"
            ],
            [
             0.3333333333333333,
             "#9c179e"
            ],
            [
             0.4444444444444444,
             "#bd3786"
            ],
            [
             0.5555555555555556,
             "#d8576b"
            ],
            [
             0.6666666666666666,
             "#ed7953"
            ],
            [
             0.7777777777777778,
             "#fb9f3a"
            ],
            [
             0.8888888888888888,
             "#fdca26"
            ],
            [
             1,
             "#f0f921"
            ]
           ]
          },
          "colorway": [
           "#636efa",
           "#EF553B",
           "#00cc96",
           "#ab63fa",
           "#FFA15A",
           "#19d3f3",
           "#FF6692",
           "#B6E880",
           "#FF97FF",
           "#FECB52"
          ],
          "font": {
           "color": "#2a3f5f"
          },
          "geo": {
           "bgcolor": "white",
           "lakecolor": "white",
           "landcolor": "white",
           "showlakes": true,
           "showland": true,
           "subunitcolor": "#C8D4E3"
          },
          "hoverlabel": {
           "align": "left"
          },
          "hovermode": "closest",
          "mapbox": {
           "style": "light"
          },
          "paper_bgcolor": "white",
          "plot_bgcolor": "white",
          "polar": {
           "angularaxis": {
            "gridcolor": "#EBF0F8",
            "linecolor": "#EBF0F8",
            "ticks": ""
           },
           "bgcolor": "white",
           "radialaxis": {
            "gridcolor": "#EBF0F8",
            "linecolor": "#EBF0F8",
            "ticks": ""
           }
          },
          "scene": {
           "xaxis": {
            "backgroundcolor": "white",
            "gridcolor": "#DFE8F3",
            "gridwidth": 2,
            "linecolor": "#EBF0F8",
            "showbackground": true,
            "ticks": "",
            "zerolinecolor": "#EBF0F8"
           },
           "yaxis": {
            "backgroundcolor": "white",
            "gridcolor": "#DFE8F3",
            "gridwidth": 2,
            "linecolor": "#EBF0F8",
            "showbackground": true,
            "ticks": "",
            "zerolinecolor": "#EBF0F8"
           },
           "zaxis": {
            "backgroundcolor": "white",
            "gridcolor": "#DFE8F3",
            "gridwidth": 2,
            "linecolor": "#EBF0F8",
            "showbackground": true,
            "ticks": "",
            "zerolinecolor": "#EBF0F8"
           }
          },
          "shapedefaults": {
           "line": {
            "color": "#2a3f5f"
           }
          },
          "ternary": {
           "aaxis": {
            "gridcolor": "#DFE8F3",
            "linecolor": "#A2B1C6",
            "ticks": ""
           },
           "baxis": {
            "gridcolor": "#DFE8F3",
            "linecolor": "#A2B1C6",
            "ticks": ""
           },
           "bgcolor": "white",
           "caxis": {
            "gridcolor": "#DFE8F3",
            "linecolor": "#A2B1C6",
            "ticks": ""
           }
          },
          "title": {
           "x": 0.05
          },
          "xaxis": {
           "automargin": true,
           "gridcolor": "#EBF0F8",
           "linecolor": "#EBF0F8",
           "ticks": "",
           "title": {
            "standoff": 15
           },
           "zerolinecolor": "#EBF0F8",
           "zerolinewidth": 2
          },
          "yaxis": {
           "automargin": true,
           "gridcolor": "#EBF0F8",
           "linecolor": "#EBF0F8",
           "ticks": "",
           "title": {
            "standoff": 15
           },
           "zerolinecolor": "#EBF0F8",
           "zerolinewidth": 2
          }
         }
        },
        "title": {
         "text": "Confirmed Cases In Each Country"
        }
       }
      },
      "text/html": [
       "<div>                            <div id=\"bc3292fc-e413-4b31-b39e-5dfe23c7305e\" class=\"plotly-graph-div\" style=\"height:525px; width:100%;\"></div>            <script type=\"text/javascript\">                require([\"plotly\"], function(Plotly) {                    window.PLOTLYENV=window.PLOTLYENV || {};                                    if (document.getElementById(\"bc3292fc-e413-4b31-b39e-5dfe23c7305e\")) {                    Plotly.newPlot(                        \"bc3292fc-e413-4b31-b39e-5dfe23c7305e\",                        [{\"coloraxis\": \"coloraxis\", \"geo\": \"geo\", \"hovertemplate\": \"<b>%{hovertext}</b><br><br>Country/Region=%{location}<br>Confirmed=%{z}<extra></extra>\", \"hovertext\": [\"US\", \"India\", \"Brazil\", \"France\", \"Russia\", \"Spain\", \"UK\", \"Argentina\", \"Colombia\", \"Italy\", \"Mexico\", \"Peru\", \"Germany\", \"Iran\", \"South Africa\", \"Poland\", \"Ukraine\", \"Belgium\", \"Chile\", \"Iraq\", \"Indonesia\", \"Czech Republic\", \"Netherlands\", \"Bangladesh\", \"Turkey\", \"Philippines\", \"Romania\", \"Pakistan\", \"Saudi Arabia\", \"Israel\", \"Canada\", \"Morocco\", \"Switzerland\", \"Portugal\", \"Nepal\", \"Austria\", \"Ecuador\", \"Sweden\", \"United Arab Emirates\", \"Panama\", \"Jordan\", \"Bolivia\", \"Hungary\", \"Kuwait\", \"Qatar\", \"Dominican Republic\", \"Costa Rica\", \"Kazakhstan\", \"Oman\", \"Japan\", \"Armenia\", \"Guatemala\", \"Belarus\", \"Egypt\", \"Lebanon\", \"Honduras\", \"Ethiopia\", \"Bulgaria\", \"Venezuela\", \"Moldova\", \"Slovakia\", \"China\", \"Bahrain\", \"Serbia\", \"Croatia\", \"Tunisia\", \"Georgia\", \"Azerbaijan\", \"Greece\", \"Libya\", \"Bosnia and Herzegovina\", \"Paraguay\", \"Kenya\", \"Uzbekistan\", \"Burma\", \"Ireland\", \"Algeria\", \"Kyrgyzstan\", \"Nigeria\", \"West Bank and Gaza\", \"Denmark\", \"Singapore\", \"Slovenia\", \"Ghana\", \"Malaysia\", \"North Macedonia\", \"Afghanistan\", \"El Salvador\", \"Lithuania\", \"Kosovo\", \"South Korea\", \"Norway\", \"Albania\", \"Australia\", \"Montenegro\", \"Luxembourg\", \"Cameroon\", \"Ivory Coast\", \"Finland\", \"Madagascar\", \"Sri Lanka\", \"Zambia\", \"Uganda\", \"Senegal\", \"Sudan\", \"Mozambique\", \"Namibia\", \"Angola\", \"Guinea\", \"Maldives\", \"Congo (Kinshasa)\", \"Tajikistan\", \"Latvia\", \"Jamaica\", \"Cabo Verde\", \"Haiti\", \"Gabon\", \"Zimbabwe\", \"Botswana\", \"Malta\", \"Mauritania\", \"Estonia\", \"Cuba\", \"Bahamas\", \"Cyprus\", \"Syria\", \"Eswatini\", \"Trinidad and Tobago\", \"Malawi\", \"Andorra\", \"Nicaragua\", \"Djibouti\", \"Congo (Brazzaville)\", \"Hong Kong\", \"Rwanda\", \"Suriname\", \"Iceland\", \"Equatorial Guinea\", \"Central African Republic\", \"Belize\", \"Guyana\", \"Somalia\", \"Uruguay\", \"Mali\", \"Thailand\", \"Gambia\", \"South Sudan\", \"Benin\", \"Togo\", \"Burkina Faso\", \"Guinea-Bissau\", \"Sierra Leone\", \"Yemen\", \"Lesotho\", \"New Zealand\", \"Chad\", \"Liberia\", \"Niger\", \"Vietnam\", \"San Marino\", \"Liechtenstein\", \"Sao Tome and Principe\", \"Diamond Princess\", \"Burundi\", \"Papua New Guinea\", \"Taiwan\", \"Comoros\", \"Monaco\", \"Tanzania\", \"Eritrea\", \"Mauritius\", \"Mongolia\", \"Bhutan\", \"Cambodia\", \"Barbados\", \"Saint Lucia\", \"Seychelles\", \"Brunei\", \"Antigua and Barbuda\", \"Saint Vincent and the Grenadines\", \"Dominica\", \"Macau\", \"Fiji\", \"Grenada\", \"Timor-Leste\", \"Holy See\", \"Laos\", \"Saint Kitts and Nevis\", \"Solomon Islands\", \"Western Sahara\", \"MS Zaandam\", \"Marshall Islands\", \"Vanuatu\"], \"locationmode\": \"country names\", \"locations\": [\"US\", \"India\", \"Brazil\", \"France\", \"Russia\", \"Spain\", \"UK\", \"Argentina\", \"Colombia\", \"Italy\", \"Mexico\", \"Peru\", \"Germany\", \"Iran\", \"South Africa\", \"Poland\", \"Ukraine\", \"Belgium\", \"Chile\", \"Iraq\", \"Indonesia\", \"Czech Republic\", \"Netherlands\", \"Bangladesh\", \"Turkey\", \"Philippines\", \"Romania\", \"Pakistan\", \"Saudi Arabia\", \"Israel\", \"Canada\", \"Morocco\", \"Switzerland\", \"Portugal\", \"Nepal\", \"Austria\", \"Ecuador\", \"Sweden\", \"United Arab Emirates\", \"Panama\", \"Jordan\", \"Bolivia\", \"Hungary\", \"Kuwait\", \"Qatar\", \"Dominican Republic\", \"Costa Rica\", \"Kazakhstan\", \"Oman\", \"Japan\", \"Armenia\", \"Guatemala\", \"Belarus\", \"Egypt\", \"Lebanon\", \"Honduras\", \"Ethiopia\", \"Bulgaria\", \"Venezuela\", \"Moldova\", \"Slovakia\", \"China\", \"Bahrain\", \"Serbia\", \"Croatia\", \"Tunisia\", \"Georgia\", \"Azerbaijan\", \"Greece\", \"Libya\", \"Bosnia and Herzegovina\", \"Paraguay\", \"Kenya\", \"Uzbekistan\", \"Burma\", \"Ireland\", \"Algeria\", \"Kyrgyzstan\", \"Nigeria\", \"West Bank and Gaza\", \"Denmark\", \"Singapore\", \"Slovenia\", \"Ghana\", \"Malaysia\", \"North Macedonia\", \"Afghanistan\", \"El Salvador\", \"Lithuania\", \"Kosovo\", \"South Korea\", \"Norway\", \"Albania\", \"Australia\", \"Montenegro\", \"Luxembourg\", \"Cameroon\", \"Ivory Coast\", \"Finland\", \"Madagascar\", \"Sri Lanka\", \"Zambia\", \"Uganda\", \"Senegal\", \"Sudan\", \"Mozambique\", \"Namibia\", \"Angola\", \"Guinea\", \"Maldives\", \"Congo (Kinshasa)\", \"Tajikistan\", \"Latvia\", \"Jamaica\", \"Cabo Verde\", \"Haiti\", \"Gabon\", \"Zimbabwe\", \"Botswana\", \"Malta\", \"Mauritania\", \"Estonia\", \"Cuba\", \"Bahamas\", \"Cyprus\", \"Syria\", \"Eswatini\", \"Trinidad and Tobago\", \"Malawi\", \"Andorra\", \"Nicaragua\", \"Djibouti\", \"Congo (Brazzaville)\", \"Hong Kong\", \"Rwanda\", \"Suriname\", \"Iceland\", \"Equatorial Guinea\", \"Central African Republic\", \"Belize\", \"Guyana\", \"Somalia\", \"Uruguay\", \"Mali\", \"Thailand\", \"Gambia\", \"South Sudan\", \"Benin\", \"Togo\", \"Burkina Faso\", \"Guinea-Bissau\", \"Sierra Leone\", \"Yemen\", \"Lesotho\", \"New Zealand\", \"Chad\", \"Liberia\", \"Niger\", \"Vietnam\", \"San Marino\", \"Liechtenstein\", \"Sao Tome and Principe\", \"Diamond Princess\", \"Burundi\", \"Papua New Guinea\", \"Taiwan\", \"Comoros\", \"Monaco\", \"Tanzania\", \"Eritrea\", \"Mauritius\", \"Mongolia\", \"Bhutan\", \"Cambodia\", \"Barbados\", \"Saint Lucia\", \"Seychelles\", \"Brunei\", \"Antigua and Barbuda\", \"Saint Vincent and the Grenadines\", \"Dominica\", \"Macau\", \"Fiji\", \"Grenada\", \"Timor-Leste\", \"Holy See\", \"Laos\", \"Saint Kitts and Nevis\", \"Solomon Islands\", \"Western Sahara\", \"MS Zaandam\", \"Marshall Islands\", \"Vanuatu\"], \"name\": \"\", \"type\": \"choropleth\", \"z\": [11036935, 8845127, 5863093, 1915713, 1910149, 1458591, 1372884, 1310491, 1198746, 1178529, 1006522, 934899, 802946, 762068, 751024, 712972, 551533, 535939, 531273, 519152, 467113, 460116, 454961, 432333, 414278, 407838, 360281, 359032, 353255, 323741, 299422, 293177, 257135, 217301, 209776, 203956, 180295, 177355, 150345, 146653, 143678, 143246, 140961, 136840, 135785, 133724, 123223, 121051, 120389, 118611, 117337, 114885, 114185, 110767, 105430, 103102, 102720, 98251, 97352, 89279, 86767, 86346, 84703, 84568, 84206, 80404, 79678, 75688, 74205, 73602, 71956, 71574, 70245, 70243, 68994, 67903, 67679, 66983, 65148, 63031, 62652, 58119, 55042, 50123, 47417, 47050, 43240, 36358, 34758, 29117, 28769, 28434, 27830, 27749, 27177, 25931, 22692, 20976, 19315, 17310, 17287, 17123, 16020, 15793, 14626, 14448, 13508, 13451, 12611, 12204, 11760, 11610, 10547, 9884, 9822, 9168, 9062, 8829, 8225, 8034, 7952, 7637, 7590, 7186, 7178, 6684, 6095, 6080, 5965, 5872, 5661, 5649, 5515, 5458, 5455, 5274, 5189, 5104, 4900, 4861, 4823, 4301, 4030, 3900, 3875, 3702, 3003, 2844, 2675, 2641, 2419, 2391, 2072, 2041, 2001, 1597, 1507, 1307, 1281, 1253, 985, 965, 712, 628, 602, 602, 579, 548, 509, 493, 478, 431, 375, 302, 250, 162, 160, 148, 134, 78, 68, 46, 35, 32, 30, 27, 24, 19, 16, 10, 9, 1, 1]}],                        {\"coloraxis\": {\"colorbar\": {\"title\": {\"text\": \"Confirmed\"}}, \"colorscale\": [[0.0, \"rgb(176, 242, 188)\"], [0.16666666666666666, \"rgb(137, 232, 172)\"], [0.3333333333333333, \"rgb(103, 219, 165)\"], [0.5, \"rgb(76, 200, 163)\"], [0.6666666666666666, \"rgb(56, 178, 163)\"], [0.8333333333333334, \"rgb(44, 152, 160)\"], [1.0, \"rgb(37, 125, 152)\"]]}, \"geo\": {\"center\": {}, \"domain\": {\"x\": [0.0, 1.0], \"y\": [0.0, 1.0]}}, \"legend\": {\"tracegroupgap\": 0}, \"margin\": {\"t\": 60}, \"template\": {\"data\": {\"bar\": [{\"error_x\": {\"color\": \"#2a3f5f\"}, \"error_y\": {\"color\": \"#2a3f5f\"}, \"marker\": {\"line\": {\"color\": \"white\", \"width\": 0.5}}, \"type\": \"bar\"}], \"barpolar\": [{\"marker\": {\"line\": {\"color\": \"white\", \"width\": 0.5}}, \"type\": \"barpolar\"}], \"carpet\": [{\"aaxis\": {\"endlinecolor\": \"#2a3f5f\", \"gridcolor\": \"#C8D4E3\", \"linecolor\": \"#C8D4E3\", \"minorgridcolor\": \"#C8D4E3\", \"startlinecolor\": \"#2a3f5f\"}, \"baxis\": {\"endlinecolor\": \"#2a3f5f\", \"gridcolor\": \"#C8D4E3\", \"linecolor\": \"#C8D4E3\", \"minorgridcolor\": \"#C8D4E3\", \"startlinecolor\": \"#2a3f5f\"}, \"type\": \"carpet\"}], \"choropleth\": [{\"colorbar\": {\"outlinewidth\": 0, \"ticks\": \"\"}, \"type\": \"choropleth\"}], \"contour\": [{\"colorbar\": {\"outlinewidth\": 0, \"ticks\": \"\"}, \"colorscale\": [[0.0, \"#0d0887\"], [0.1111111111111111, \"#46039f\"], [0.2222222222222222, \"#7201a8\"], [0.3333333333333333, \"#9c179e\"], [0.4444444444444444, \"#bd3786\"], [0.5555555555555556, \"#d8576b\"], [0.6666666666666666, \"#ed7953\"], [0.7777777777777778, \"#fb9f3a\"], [0.8888888888888888, \"#fdca26\"], [1.0, \"#f0f921\"]], \"type\": \"contour\"}], \"contourcarpet\": [{\"colorbar\": {\"outlinewidth\": 0, \"ticks\": \"\"}, \"type\": \"contourcarpet\"}], \"heatmap\": [{\"colorbar\": {\"outlinewidth\": 0, \"ticks\": \"\"}, \"colorscale\": [[0.0, \"#0d0887\"], [0.1111111111111111, \"#46039f\"], [0.2222222222222222, \"#7201a8\"], [0.3333333333333333, \"#9c179e\"], [0.4444444444444444, \"#bd3786\"], [0.5555555555555556, \"#d8576b\"], [0.6666666666666666, \"#ed7953\"], [0.7777777777777778, \"#fb9f3a\"], [0.8888888888888888, \"#fdca26\"], [1.0, \"#f0f921\"]], \"type\": \"heatmap\"}], \"heatmapgl\": [{\"colorbar\": {\"outlinewidth\": 0, \"ticks\": \"\"}, \"colorscale\": [[0.0, \"#0d0887\"], [0.1111111111111111, \"#46039f\"], [0.2222222222222222, \"#7201a8\"], [0.3333333333333333, \"#9c179e\"], [0.4444444444444444, \"#bd3786\"], [0.5555555555555556, \"#d8576b\"], [0.6666666666666666, \"#ed7953\"], [0.7777777777777778, \"#fb9f3a\"], [0.8888888888888888, \"#fdca26\"], [1.0, \"#f0f921\"]], \"type\": \"heatmapgl\"}], \"histogram\": [{\"marker\": {\"colorbar\": {\"outlinewidth\": 0, \"ticks\": \"\"}}, \"type\": \"histogram\"}], \"histogram2d\": [{\"colorbar\": {\"outlinewidth\": 0, \"ticks\": \"\"}, \"colorscale\": [[0.0, \"#0d0887\"], [0.1111111111111111, \"#46039f\"], [0.2222222222222222, \"#7201a8\"], [0.3333333333333333, \"#9c179e\"], [0.4444444444444444, \"#bd3786\"], [0.5555555555555556, \"#d8576b\"], [0.6666666666666666, \"#ed7953\"], [0.7777777777777778, \"#fb9f3a\"], [0.8888888888888888, \"#fdca26\"], [1.0, \"#f0f921\"]], \"type\": \"histogram2d\"}], \"histogram2dcontour\": [{\"colorbar\": {\"outlinewidth\": 0, \"ticks\": \"\"}, \"colorscale\": [[0.0, \"#0d0887\"], [0.1111111111111111, \"#46039f\"], [0.2222222222222222, \"#7201a8\"], [0.3333333333333333, \"#9c179e\"], [0.4444444444444444, \"#bd3786\"], [0.5555555555555556, \"#d8576b\"], [0.6666666666666666, \"#ed7953\"], [0.7777777777777778, \"#fb9f3a\"], [0.8888888888888888, \"#fdca26\"], [1.0, \"#f0f921\"]], \"type\": \"histogram2dcontour\"}], \"mesh3d\": [{\"colorbar\": {\"outlinewidth\": 0, \"ticks\": \"\"}, \"type\": \"mesh3d\"}], \"parcoords\": [{\"line\": {\"colorbar\": {\"outlinewidth\": 0, \"ticks\": \"\"}}, \"type\": \"parcoords\"}], \"pie\": [{\"automargin\": true, \"type\": \"pie\"}], \"scatter\": [{\"marker\": {\"colorbar\": {\"outlinewidth\": 0, \"ticks\": \"\"}}, \"type\": \"scatter\"}], \"scatter3d\": [{\"line\": {\"colorbar\": {\"outlinewidth\": 0, \"ticks\": \"\"}}, \"marker\": {\"colorbar\": {\"outlinewidth\": 0, \"ticks\": \"\"}}, \"type\": \"scatter3d\"}], \"scattercarpet\": [{\"marker\": {\"colorbar\": {\"outlinewidth\": 0, \"ticks\": \"\"}}, \"type\": \"scattercarpet\"}], \"scattergeo\": [{\"marker\": {\"colorbar\": {\"outlinewidth\": 0, \"ticks\": \"\"}}, \"type\": \"scattergeo\"}], \"scattergl\": [{\"marker\": {\"colorbar\": {\"outlinewidth\": 0, \"ticks\": \"\"}}, \"type\": \"scattergl\"}], \"scattermapbox\": [{\"marker\": {\"colorbar\": {\"outlinewidth\": 0, \"ticks\": \"\"}}, \"type\": \"scattermapbox\"}], \"scatterpolar\": [{\"marker\": {\"colorbar\": {\"outlinewidth\": 0, \"ticks\": \"\"}}, \"type\": \"scatterpolar\"}], \"scatterpolargl\": [{\"marker\": {\"colorbar\": {\"outlinewidth\": 0, \"ticks\": \"\"}}, \"type\": \"scatterpolargl\"}], \"scatterternary\": [{\"marker\": {\"colorbar\": {\"outlinewidth\": 0, \"ticks\": \"\"}}, \"type\": \"scatterternary\"}], \"surface\": [{\"colorbar\": {\"outlinewidth\": 0, \"ticks\": \"\"}, \"colorscale\": [[0.0, \"#0d0887\"], [0.1111111111111111, \"#46039f\"], [0.2222222222222222, \"#7201a8\"], [0.3333333333333333, \"#9c179e\"], [0.4444444444444444, \"#bd3786\"], [0.5555555555555556, \"#d8576b\"], [0.6666666666666666, \"#ed7953\"], [0.7777777777777778, \"#fb9f3a\"], [0.8888888888888888, \"#fdca26\"], [1.0, \"#f0f921\"]], \"type\": \"surface\"}], \"table\": [{\"cells\": {\"fill\": {\"color\": \"#EBF0F8\"}, \"line\": {\"color\": \"white\"}}, \"header\": {\"fill\": {\"color\": \"#C8D4E3\"}, \"line\": {\"color\": \"white\"}}, \"type\": \"table\"}]}, \"layout\": {\"annotationdefaults\": {\"arrowcolor\": \"#2a3f5f\", \"arrowhead\": 0, \"arrowwidth\": 1}, \"autotypenumbers\": \"strict\", \"coloraxis\": {\"colorbar\": {\"outlinewidth\": 0, \"ticks\": \"\"}}, \"colorscale\": {\"diverging\": [[0, \"#8e0152\"], [0.1, \"#c51b7d\"], [0.2, \"#de77ae\"], [0.3, \"#f1b6da\"], [0.4, \"#fde0ef\"], [0.5, \"#f7f7f7\"], [0.6, \"#e6f5d0\"], [0.7, \"#b8e186\"], [0.8, \"#7fbc41\"], [0.9, \"#4d9221\"], [1, \"#276419\"]], \"sequential\": [[0.0, \"#0d0887\"], [0.1111111111111111, \"#46039f\"], [0.2222222222222222, \"#7201a8\"], [0.3333333333333333, \"#9c179e\"], [0.4444444444444444, \"#bd3786\"], [0.5555555555555556, \"#d8576b\"], [0.6666666666666666, \"#ed7953\"], [0.7777777777777778, \"#fb9f3a\"], [0.8888888888888888, \"#fdca26\"], [1.0, \"#f0f921\"]], \"sequentialminus\": [[0.0, \"#0d0887\"], [0.1111111111111111, \"#46039f\"], [0.2222222222222222, \"#7201a8\"], [0.3333333333333333, \"#9c179e\"], [0.4444444444444444, \"#bd3786\"], [0.5555555555555556, \"#d8576b\"], [0.6666666666666666, \"#ed7953\"], [0.7777777777777778, \"#fb9f3a\"], [0.8888888888888888, \"#fdca26\"], [1.0, \"#f0f921\"]]}, \"colorway\": [\"#636efa\", \"#EF553B\", \"#00cc96\", \"#ab63fa\", \"#FFA15A\", \"#19d3f3\", \"#FF6692\", \"#B6E880\", \"#FF97FF\", \"#FECB52\"], \"font\": {\"color\": \"#2a3f5f\"}, \"geo\": {\"bgcolor\": \"white\", \"lakecolor\": \"white\", \"landcolor\": \"white\", \"showlakes\": true, \"showland\": true, \"subunitcolor\": \"#C8D4E3\"}, \"hoverlabel\": {\"align\": \"left\"}, \"hovermode\": \"closest\", \"mapbox\": {\"style\": \"light\"}, \"paper_bgcolor\": \"white\", \"plot_bgcolor\": \"white\", \"polar\": {\"angularaxis\": {\"gridcolor\": \"#EBF0F8\", \"linecolor\": \"#EBF0F8\", \"ticks\": \"\"}, \"bgcolor\": \"white\", \"radialaxis\": {\"gridcolor\": \"#EBF0F8\", \"linecolor\": \"#EBF0F8\", \"ticks\": \"\"}}, \"scene\": {\"xaxis\": {\"backgroundcolor\": \"white\", \"gridcolor\": \"#DFE8F3\", \"gridwidth\": 2, \"linecolor\": \"#EBF0F8\", \"showbackground\": true, \"ticks\": \"\", \"zerolinecolor\": \"#EBF0F8\"}, \"yaxis\": {\"backgroundcolor\": \"white\", \"gridcolor\": \"#DFE8F3\", \"gridwidth\": 2, \"linecolor\": \"#EBF0F8\", \"showbackground\": true, \"ticks\": \"\", \"zerolinecolor\": \"#EBF0F8\"}, \"zaxis\": {\"backgroundcolor\": \"white\", \"gridcolor\": \"#DFE8F3\", \"gridwidth\": 2, \"linecolor\": \"#EBF0F8\", \"showbackground\": true, \"ticks\": \"\", \"zerolinecolor\": \"#EBF0F8\"}}, \"shapedefaults\": {\"line\": {\"color\": \"#2a3f5f\"}}, \"ternary\": {\"aaxis\": {\"gridcolor\": \"#DFE8F3\", \"linecolor\": \"#A2B1C6\", \"ticks\": \"\"}, \"baxis\": {\"gridcolor\": \"#DFE8F3\", \"linecolor\": \"#A2B1C6\", \"ticks\": \"\"}, \"bgcolor\": \"white\", \"caxis\": {\"gridcolor\": \"#DFE8F3\", \"linecolor\": \"#A2B1C6\", \"ticks\": \"\"}}, \"title\": {\"x\": 0.05}, \"xaxis\": {\"automargin\": true, \"gridcolor\": \"#EBF0F8\", \"linecolor\": \"#EBF0F8\", \"ticks\": \"\", \"title\": {\"standoff\": 15}, \"zerolinecolor\": \"#EBF0F8\", \"zerolinewidth\": 2}, \"yaxis\": {\"automargin\": true, \"gridcolor\": \"#EBF0F8\", \"linecolor\": \"#EBF0F8\", \"ticks\": \"\", \"title\": {\"standoff\": 15}, \"zerolinecolor\": \"#EBF0F8\", \"zerolinewidth\": 2}}}, \"title\": {\"text\": \"Confirmed Cases In Each Country\"}},                        {\"responsive\": true}                    ).then(function(){\n",
       "                            \n",
       "var gd = document.getElementById('bc3292fc-e413-4b31-b39e-5dfe23c7305e');\n",
       "var x = new MutationObserver(function (mutations, observer) {{\n",
       "        var display = window.getComputedStyle(gd).display;\n",
       "        if (!display || display === 'none') {{\n",
       "            console.log([gd, 'removed!']);\n",
       "            Plotly.purge(gd);\n",
       "            observer.disconnect();\n",
       "        }}\n",
       "}});\n",
       "\n",
       "// Listen for the removal of the full notebook cells\n",
       "var notebookContainer = gd.closest('#notebook-container');\n",
       "if (notebookContainer) {{\n",
       "    x.observe(notebookContainer, {childList: true});\n",
       "}}\n",
       "\n",
       "// Listen for the clearing of the current output cell\n",
       "var outputEl = gd.closest('.output');\n",
       "if (outputEl) {{\n",
       "    x.observe(outputEl, {childList: true});\n",
       "}}\n",
       "\n",
       "                        })                };                });            </script>        </div>"
      ]
     },
     "metadata": {},
     "output_type": "display_data"
    }
   ],
   "source": [
    "# Confirmed cases\n",
    "fig = px.choropleth(Data_country, locations=Data_country['Country/Region'],\n",
    "                    color=Data_country['Confirmed'],locationmode='country names', \n",
    "                    hover_name=Data_country['Country/Region'], \n",
    "                    color_continuous_scale=px.colors.sequential.Tealgrn,template='plotly_white', )\n",
    "fig.update_layout(\n",
    "    title='Confirmed Cases In Each Country',\n",
    ")\n",
    "fig.show()\n"
   ]
  },
  {
   "cell_type": "code",
   "execution_count": 20,
   "metadata": {},
   "outputs": [
    {
     "data": {
      "application/vnd.plotly.v1+json": {
       "config": {
        "plotlyServerURL": "https://plot.ly"
       },
       "data": [
        {
         "coloraxis": "coloraxis",
         "geo": "geo",
         "hovertemplate": "<b>%{hovertext}</b><br><br>Country/Region=%{location}<br>Recovered=%{z}<extra></extra>",
         "hovertext": [
          "US",
          "India",
          "Brazil",
          "France",
          "Russia",
          "Spain",
          "UK",
          "Argentina",
          "Colombia",
          "Italy",
          "Mexico",
          "Peru",
          "Germany",
          "Iran",
          "South Africa",
          "Poland",
          "Ukraine",
          "Belgium",
          "Chile",
          "Iraq",
          "Indonesia",
          "Czech Republic",
          "Netherlands",
          "Bangladesh",
          "Turkey",
          "Philippines",
          "Romania",
          "Pakistan",
          "Saudi Arabia",
          "Israel",
          "Canada",
          "Morocco",
          "Switzerland",
          "Portugal",
          "Nepal",
          "Austria",
          "Ecuador",
          "Sweden",
          "United Arab Emirates",
          "Panama",
          "Jordan",
          "Bolivia",
          "Hungary",
          "Kuwait",
          "Qatar",
          "Dominican Republic",
          "Costa Rica",
          "Kazakhstan",
          "Oman",
          "Japan",
          "Armenia",
          "Guatemala",
          "Belarus",
          "Egypt",
          "Lebanon",
          "Honduras",
          "Ethiopia",
          "Bulgaria",
          "Venezuela",
          "Moldova",
          "Slovakia",
          "China",
          "Bahrain",
          "Serbia",
          "Croatia",
          "Tunisia",
          "Georgia",
          "Azerbaijan",
          "Greece",
          "Libya",
          "Bosnia and Herzegovina",
          "Paraguay",
          "Kenya",
          "Uzbekistan",
          "Burma",
          "Ireland",
          "Algeria",
          "Kyrgyzstan",
          "Nigeria",
          "West Bank and Gaza",
          "Denmark",
          "Singapore",
          "Slovenia",
          "Ghana",
          "Malaysia",
          "North Macedonia",
          "Afghanistan",
          "El Salvador",
          "Lithuania",
          "Kosovo",
          "South Korea",
          "Norway",
          "Albania",
          "Australia",
          "Montenegro",
          "Luxembourg",
          "Cameroon",
          "Ivory Coast",
          "Finland",
          "Madagascar",
          "Sri Lanka",
          "Zambia",
          "Uganda",
          "Senegal",
          "Sudan",
          "Mozambique",
          "Namibia",
          "Angola",
          "Guinea",
          "Maldives",
          "Congo (Kinshasa)",
          "Tajikistan",
          "Latvia",
          "Jamaica",
          "Cabo Verde",
          "Haiti",
          "Gabon",
          "Zimbabwe",
          "Botswana",
          "Malta",
          "Mauritania",
          "Estonia",
          "Cuba",
          "Bahamas",
          "Cyprus",
          "Syria",
          "Eswatini",
          "Trinidad and Tobago",
          "Malawi",
          "Andorra",
          "Nicaragua",
          "Djibouti",
          "Congo (Brazzaville)",
          "Hong Kong",
          "Rwanda",
          "Suriname",
          "Iceland",
          "Equatorial Guinea",
          "Central African Republic",
          "Belize",
          "Guyana",
          "Somalia",
          "Uruguay",
          "Mali",
          "Thailand",
          "Gambia",
          "South Sudan",
          "Benin",
          "Togo",
          "Burkina Faso",
          "Guinea-Bissau",
          "Sierra Leone",
          "Yemen",
          "Lesotho",
          "New Zealand",
          "Chad",
          "Liberia",
          "Niger",
          "Vietnam",
          "San Marino",
          "Liechtenstein",
          "Sao Tome and Principe",
          "Diamond Princess",
          "Burundi",
          "Papua New Guinea",
          "Taiwan",
          "Comoros",
          "Monaco",
          "Tanzania",
          "Eritrea",
          "Mauritius",
          "Mongolia",
          "Bhutan",
          "Cambodia",
          "Barbados",
          "Saint Lucia",
          "Seychelles",
          "Brunei",
          "Antigua and Barbuda",
          "Saint Vincent and the Grenadines",
          "Dominica",
          "Macau",
          "Fiji",
          "Grenada",
          "Timor-Leste",
          "Holy See",
          "Laos",
          "Saint Kitts and Nevis",
          "Solomon Islands",
          "Western Sahara",
          "MS Zaandam",
          "Marshall Islands",
          "Vanuatu"
         ],
         "locationmode": "country names",
         "locations": [
          "US",
          "India",
          "Brazil",
          "France",
          "Russia",
          "Spain",
          "UK",
          "Argentina",
          "Colombia",
          "Italy",
          "Mexico",
          "Peru",
          "Germany",
          "Iran",
          "South Africa",
          "Poland",
          "Ukraine",
          "Belgium",
          "Chile",
          "Iraq",
          "Indonesia",
          "Czech Republic",
          "Netherlands",
          "Bangladesh",
          "Turkey",
          "Philippines",
          "Romania",
          "Pakistan",
          "Saudi Arabia",
          "Israel",
          "Canada",
          "Morocco",
          "Switzerland",
          "Portugal",
          "Nepal",
          "Austria",
          "Ecuador",
          "Sweden",
          "United Arab Emirates",
          "Panama",
          "Jordan",
          "Bolivia",
          "Hungary",
          "Kuwait",
          "Qatar",
          "Dominican Republic",
          "Costa Rica",
          "Kazakhstan",
          "Oman",
          "Japan",
          "Armenia",
          "Guatemala",
          "Belarus",
          "Egypt",
          "Lebanon",
          "Honduras",
          "Ethiopia",
          "Bulgaria",
          "Venezuela",
          "Moldova",
          "Slovakia",
          "China",
          "Bahrain",
          "Serbia",
          "Croatia",
          "Tunisia",
          "Georgia",
          "Azerbaijan",
          "Greece",
          "Libya",
          "Bosnia and Herzegovina",
          "Paraguay",
          "Kenya",
          "Uzbekistan",
          "Burma",
          "Ireland",
          "Algeria",
          "Kyrgyzstan",
          "Nigeria",
          "West Bank and Gaza",
          "Denmark",
          "Singapore",
          "Slovenia",
          "Ghana",
          "Malaysia",
          "North Macedonia",
          "Afghanistan",
          "El Salvador",
          "Lithuania",
          "Kosovo",
          "South Korea",
          "Norway",
          "Albania",
          "Australia",
          "Montenegro",
          "Luxembourg",
          "Cameroon",
          "Ivory Coast",
          "Finland",
          "Madagascar",
          "Sri Lanka",
          "Zambia",
          "Uganda",
          "Senegal",
          "Sudan",
          "Mozambique",
          "Namibia",
          "Angola",
          "Guinea",
          "Maldives",
          "Congo (Kinshasa)",
          "Tajikistan",
          "Latvia",
          "Jamaica",
          "Cabo Verde",
          "Haiti",
          "Gabon",
          "Zimbabwe",
          "Botswana",
          "Malta",
          "Mauritania",
          "Estonia",
          "Cuba",
          "Bahamas",
          "Cyprus",
          "Syria",
          "Eswatini",
          "Trinidad and Tobago",
          "Malawi",
          "Andorra",
          "Nicaragua",
          "Djibouti",
          "Congo (Brazzaville)",
          "Hong Kong",
          "Rwanda",
          "Suriname",
          "Iceland",
          "Equatorial Guinea",
          "Central African Republic",
          "Belize",
          "Guyana",
          "Somalia",
          "Uruguay",
          "Mali",
          "Thailand",
          "Gambia",
          "South Sudan",
          "Benin",
          "Togo",
          "Burkina Faso",
          "Guinea-Bissau",
          "Sierra Leone",
          "Yemen",
          "Lesotho",
          "New Zealand",
          "Chad",
          "Liberia",
          "Niger",
          "Vietnam",
          "San Marino",
          "Liechtenstein",
          "Sao Tome and Principe",
          "Diamond Princess",
          "Burundi",
          "Papua New Guinea",
          "Taiwan",
          "Comoros",
          "Monaco",
          "Tanzania",
          "Eritrea",
          "Mauritius",
          "Mongolia",
          "Bhutan",
          "Cambodia",
          "Barbados",
          "Saint Lucia",
          "Seychelles",
          "Brunei",
          "Antigua and Barbuda",
          "Saint Vincent and the Grenadines",
          "Dominica",
          "Macau",
          "Fiji",
          "Grenada",
          "Timor-Leste",
          "Holy See",
          "Laos",
          "Saint Kitts and Nevis",
          "Solomon Islands",
          "Western Sahara",
          "MS Zaandam",
          "Marshall Islands",
          "Vanuatu"
         ],
         "name": "",
         "type": "choropleth",
         "z": [
          4174884,
          8249579,
          5279452,
          139760,
          1429565,
          150376,
          3121,
          1129102,
          1104956,
          420810,
          750190,
          858388,
          505714,
          558818,
          693467,
          294783,
          251864,
          0,
          506700,
          447039,
          391991,
          327306,
          6448,
          349542,
          353663,
          374329,
          243832,
          323824,
          340304,
          313380,
          240434,
          238598,
          141000,
          125066,
          173430,
          125674,
          160639,
          0,
          143252,
          125370,
          10067,
          117137,
          31599,
          127585,
          132784,
          109981,
          75341,
          109944,
          111096,
          91954,
          74984,
          104438,
          95843,
          101046,
          60416,
          44778,
          63866,
          29375,
          92373,
          70812,
          30519,
          81332,
          82469,
          0,
          66231,
          54362,
          62061,
          55150,
          23074,
          44133,
          35606,
          51375,
          45766,
          67526,
          52351,
          23364,
          44633,
          57760,
          61073,
          54346,
          48259,
          58029,
          34864,
          48328,
          34785,
          27364,
          35092,
          32721,
          7753,
          17305,
          25759,
          11863,
          12889,
          25468,
          17387,
          15428,
          21510,
          20647,
          14000,
          16592,
          11495,
          16137,
          8038,
          15416,
          9571,
          12505,
          12680,
          6444,
          11151,
          11289,
          11086,
          10973,
          1515,
          5248,
          9220,
          7701,
          8939,
          8096,
          5559,
          5765,
          7524,
          4741,
          7060,
          5323,
          2021,
          2714,
          5779,
          5402,
          5399,
          4747,
          4225,
          5525,
          3887,
          5194,
          4995,
          5148,
          4813,
          4973,
          1924,
          2598,
          3777,
          3330,
          3233,
          2949,
          3721,
          3571,
          1290,
          2515,
          1920,
          2445,
          2255,
          1820,
          1394,
          1056,
          1918,
          1443,
          1314,
          1148,
          1103,
          888,
          682,
          917,
          659,
          549,
          586,
          536,
          549,
          450,
          183,
          444,
          431,
          328,
          355,
          289,
          238,
          46,
          157,
          145,
          127,
          77,
          41,
          46,
          32,
          27,
          30,
          15,
          23,
          19,
          5,
          8,
          0,
          1,
          0
         ]
        }
       ],
       "layout": {
        "coloraxis": {
         "colorbar": {
          "title": {
           "text": "Recovered"
          }
         },
         "colorscale": [
          [
           0,
           "rgb(176, 242, 188)"
          ],
          [
           0.16666666666666666,
           "rgb(137, 232, 172)"
          ],
          [
           0.3333333333333333,
           "rgb(103, 219, 165)"
          ],
          [
           0.5,
           "rgb(76, 200, 163)"
          ],
          [
           0.6666666666666666,
           "rgb(56, 178, 163)"
          ],
          [
           0.8333333333333334,
           "rgb(44, 152, 160)"
          ],
          [
           1,
           "rgb(37, 125, 152)"
          ]
         ]
        },
        "geo": {
         "center": {},
         "domain": {
          "x": [
           0,
           1
          ],
          "y": [
           0,
           1
          ]
         }
        },
        "legend": {
         "tracegroupgap": 0
        },
        "margin": {
         "t": 60
        },
        "template": {
         "data": {
          "bar": [
           {
            "error_x": {
             "color": "#2a3f5f"
            },
            "error_y": {
             "color": "#2a3f5f"
            },
            "marker": {
             "line": {
              "color": "white",
              "width": 0.5
             }
            },
            "type": "bar"
           }
          ],
          "barpolar": [
           {
            "marker": {
             "line": {
              "color": "white",
              "width": 0.5
             }
            },
            "type": "barpolar"
           }
          ],
          "carpet": [
           {
            "aaxis": {
             "endlinecolor": "#2a3f5f",
             "gridcolor": "#C8D4E3",
             "linecolor": "#C8D4E3",
             "minorgridcolor": "#C8D4E3",
             "startlinecolor": "#2a3f5f"
            },
            "baxis": {
             "endlinecolor": "#2a3f5f",
             "gridcolor": "#C8D4E3",
             "linecolor": "#C8D4E3",
             "minorgridcolor": "#C8D4E3",
             "startlinecolor": "#2a3f5f"
            },
            "type": "carpet"
           }
          ],
          "choropleth": [
           {
            "colorbar": {
             "outlinewidth": 0,
             "ticks": ""
            },
            "type": "choropleth"
           }
          ],
          "contour": [
           {
            "colorbar": {
             "outlinewidth": 0,
             "ticks": ""
            },
            "colorscale": [
             [
              0,
              "#0d0887"
             ],
             [
              0.1111111111111111,
              "#46039f"
             ],
             [
              0.2222222222222222,
              "#7201a8"
             ],
             [
              0.3333333333333333,
              "#9c179e"
             ],
             [
              0.4444444444444444,
              "#bd3786"
             ],
             [
              0.5555555555555556,
              "#d8576b"
             ],
             [
              0.6666666666666666,
              "#ed7953"
             ],
             [
              0.7777777777777778,
              "#fb9f3a"
             ],
             [
              0.8888888888888888,
              "#fdca26"
             ],
             [
              1,
              "#f0f921"
             ]
            ],
            "type": "contour"
           }
          ],
          "contourcarpet": [
           {
            "colorbar": {
             "outlinewidth": 0,
             "ticks": ""
            },
            "type": "contourcarpet"
           }
          ],
          "heatmap": [
           {
            "colorbar": {
             "outlinewidth": 0,
             "ticks": ""
            },
            "colorscale": [
             [
              0,
              "#0d0887"
             ],
             [
              0.1111111111111111,
              "#46039f"
             ],
             [
              0.2222222222222222,
              "#7201a8"
             ],
             [
              0.3333333333333333,
              "#9c179e"
             ],
             [
              0.4444444444444444,
              "#bd3786"
             ],
             [
              0.5555555555555556,
              "#d8576b"
             ],
             [
              0.6666666666666666,
              "#ed7953"
             ],
             [
              0.7777777777777778,
              "#fb9f3a"
             ],
             [
              0.8888888888888888,
              "#fdca26"
             ],
             [
              1,
              "#f0f921"
             ]
            ],
            "type": "heatmap"
           }
          ],
          "heatmapgl": [
           {
            "colorbar": {
             "outlinewidth": 0,
             "ticks": ""
            },
            "colorscale": [
             [
              0,
              "#0d0887"
             ],
             [
              0.1111111111111111,
              "#46039f"
             ],
             [
              0.2222222222222222,
              "#7201a8"
             ],
             [
              0.3333333333333333,
              "#9c179e"
             ],
             [
              0.4444444444444444,
              "#bd3786"
             ],
             [
              0.5555555555555556,
              "#d8576b"
             ],
             [
              0.6666666666666666,
              "#ed7953"
             ],
             [
              0.7777777777777778,
              "#fb9f3a"
             ],
             [
              0.8888888888888888,
              "#fdca26"
             ],
             [
              1,
              "#f0f921"
             ]
            ],
            "type": "heatmapgl"
           }
          ],
          "histogram": [
           {
            "marker": {
             "colorbar": {
              "outlinewidth": 0,
              "ticks": ""
             }
            },
            "type": "histogram"
           }
          ],
          "histogram2d": [
           {
            "colorbar": {
             "outlinewidth": 0,
             "ticks": ""
            },
            "colorscale": [
             [
              0,
              "#0d0887"
             ],
             [
              0.1111111111111111,
              "#46039f"
             ],
             [
              0.2222222222222222,
              "#7201a8"
             ],
             [
              0.3333333333333333,
              "#9c179e"
             ],
             [
              0.4444444444444444,
              "#bd3786"
             ],
             [
              0.5555555555555556,
              "#d8576b"
             ],
             [
              0.6666666666666666,
              "#ed7953"
             ],
             [
              0.7777777777777778,
              "#fb9f3a"
             ],
             [
              0.8888888888888888,
              "#fdca26"
             ],
             [
              1,
              "#f0f921"
             ]
            ],
            "type": "histogram2d"
           }
          ],
          "histogram2dcontour": [
           {
            "colorbar": {
             "outlinewidth": 0,
             "ticks": ""
            },
            "colorscale": [
             [
              0,
              "#0d0887"
             ],
             [
              0.1111111111111111,
              "#46039f"
             ],
             [
              0.2222222222222222,
              "#7201a8"
             ],
             [
              0.3333333333333333,
              "#9c179e"
             ],
             [
              0.4444444444444444,
              "#bd3786"
             ],
             [
              0.5555555555555556,
              "#d8576b"
             ],
             [
              0.6666666666666666,
              "#ed7953"
             ],
             [
              0.7777777777777778,
              "#fb9f3a"
             ],
             [
              0.8888888888888888,
              "#fdca26"
             ],
             [
              1,
              "#f0f921"
             ]
            ],
            "type": "histogram2dcontour"
           }
          ],
          "mesh3d": [
           {
            "colorbar": {
             "outlinewidth": 0,
             "ticks": ""
            },
            "type": "mesh3d"
           }
          ],
          "parcoords": [
           {
            "line": {
             "colorbar": {
              "outlinewidth": 0,
              "ticks": ""
             }
            },
            "type": "parcoords"
           }
          ],
          "pie": [
           {
            "automargin": true,
            "type": "pie"
           }
          ],
          "scatter": [
           {
            "marker": {
             "colorbar": {
              "outlinewidth": 0,
              "ticks": ""
             }
            },
            "type": "scatter"
           }
          ],
          "scatter3d": [
           {
            "line": {
             "colorbar": {
              "outlinewidth": 0,
              "ticks": ""
             }
            },
            "marker": {
             "colorbar": {
              "outlinewidth": 0,
              "ticks": ""
             }
            },
            "type": "scatter3d"
           }
          ],
          "scattercarpet": [
           {
            "marker": {
             "colorbar": {
              "outlinewidth": 0,
              "ticks": ""
             }
            },
            "type": "scattercarpet"
           }
          ],
          "scattergeo": [
           {
            "marker": {
             "colorbar": {
              "outlinewidth": 0,
              "ticks": ""
             }
            },
            "type": "scattergeo"
           }
          ],
          "scattergl": [
           {
            "marker": {
             "colorbar": {
              "outlinewidth": 0,
              "ticks": ""
             }
            },
            "type": "scattergl"
           }
          ],
          "scattermapbox": [
           {
            "marker": {
             "colorbar": {
              "outlinewidth": 0,
              "ticks": ""
             }
            },
            "type": "scattermapbox"
           }
          ],
          "scatterpolar": [
           {
            "marker": {
             "colorbar": {
              "outlinewidth": 0,
              "ticks": ""
             }
            },
            "type": "scatterpolar"
           }
          ],
          "scatterpolargl": [
           {
            "marker": {
             "colorbar": {
              "outlinewidth": 0,
              "ticks": ""
             }
            },
            "type": "scatterpolargl"
           }
          ],
          "scatterternary": [
           {
            "marker": {
             "colorbar": {
              "outlinewidth": 0,
              "ticks": ""
             }
            },
            "type": "scatterternary"
           }
          ],
          "surface": [
           {
            "colorbar": {
             "outlinewidth": 0,
             "ticks": ""
            },
            "colorscale": [
             [
              0,
              "#0d0887"
             ],
             [
              0.1111111111111111,
              "#46039f"
             ],
             [
              0.2222222222222222,
              "#7201a8"
             ],
             [
              0.3333333333333333,
              "#9c179e"
             ],
             [
              0.4444444444444444,
              "#bd3786"
             ],
             [
              0.5555555555555556,
              "#d8576b"
             ],
             [
              0.6666666666666666,
              "#ed7953"
             ],
             [
              0.7777777777777778,
              "#fb9f3a"
             ],
             [
              0.8888888888888888,
              "#fdca26"
             ],
             [
              1,
              "#f0f921"
             ]
            ],
            "type": "surface"
           }
          ],
          "table": [
           {
            "cells": {
             "fill": {
              "color": "#EBF0F8"
             },
             "line": {
              "color": "white"
             }
            },
            "header": {
             "fill": {
              "color": "#C8D4E3"
             },
             "line": {
              "color": "white"
             }
            },
            "type": "table"
           }
          ]
         },
         "layout": {
          "annotationdefaults": {
           "arrowcolor": "#2a3f5f",
           "arrowhead": 0,
           "arrowwidth": 1
          },
          "autotypenumbers": "strict",
          "coloraxis": {
           "colorbar": {
            "outlinewidth": 0,
            "ticks": ""
           }
          },
          "colorscale": {
           "diverging": [
            [
             0,
             "#8e0152"
            ],
            [
             0.1,
             "#c51b7d"
            ],
            [
             0.2,
             "#de77ae"
            ],
            [
             0.3,
             "#f1b6da"
            ],
            [
             0.4,
             "#fde0ef"
            ],
            [
             0.5,
             "#f7f7f7"
            ],
            [
             0.6,
             "#e6f5d0"
            ],
            [
             0.7,
             "#b8e186"
            ],
            [
             0.8,
             "#7fbc41"
            ],
            [
             0.9,
             "#4d9221"
            ],
            [
             1,
             "#276419"
            ]
           ],
           "sequential": [
            [
             0,
             "#0d0887"
            ],
            [
             0.1111111111111111,
             "#46039f"
            ],
            [
             0.2222222222222222,
             "#7201a8"
            ],
            [
             0.3333333333333333,
             "#9c179e"
            ],
            [
             0.4444444444444444,
             "#bd3786"
            ],
            [
             0.5555555555555556,
             "#d8576b"
            ],
            [
             0.6666666666666666,
             "#ed7953"
            ],
            [
             0.7777777777777778,
             "#fb9f3a"
            ],
            [
             0.8888888888888888,
             "#fdca26"
            ],
            [
             1,
             "#f0f921"
            ]
           ],
           "sequentialminus": [
            [
             0,
             "#0d0887"
            ],
            [
             0.1111111111111111,
             "#46039f"
            ],
            [
             0.2222222222222222,
             "#7201a8"
            ],
            [
             0.3333333333333333,
             "#9c179e"
            ],
            [
             0.4444444444444444,
             "#bd3786"
            ],
            [
             0.5555555555555556,
             "#d8576b"
            ],
            [
             0.6666666666666666,
             "#ed7953"
            ],
            [
             0.7777777777777778,
             "#fb9f3a"
            ],
            [
             0.8888888888888888,
             "#fdca26"
            ],
            [
             1,
             "#f0f921"
            ]
           ]
          },
          "colorway": [
           "#636efa",
           "#EF553B",
           "#00cc96",
           "#ab63fa",
           "#FFA15A",
           "#19d3f3",
           "#FF6692",
           "#B6E880",
           "#FF97FF",
           "#FECB52"
          ],
          "font": {
           "color": "#2a3f5f"
          },
          "geo": {
           "bgcolor": "white",
           "lakecolor": "white",
           "landcolor": "white",
           "showlakes": true,
           "showland": true,
           "subunitcolor": "#C8D4E3"
          },
          "hoverlabel": {
           "align": "left"
          },
          "hovermode": "closest",
          "mapbox": {
           "style": "light"
          },
          "paper_bgcolor": "white",
          "plot_bgcolor": "white",
          "polar": {
           "angularaxis": {
            "gridcolor": "#EBF0F8",
            "linecolor": "#EBF0F8",
            "ticks": ""
           },
           "bgcolor": "white",
           "radialaxis": {
            "gridcolor": "#EBF0F8",
            "linecolor": "#EBF0F8",
            "ticks": ""
           }
          },
          "scene": {
           "xaxis": {
            "backgroundcolor": "white",
            "gridcolor": "#DFE8F3",
            "gridwidth": 2,
            "linecolor": "#EBF0F8",
            "showbackground": true,
            "ticks": "",
            "zerolinecolor": "#EBF0F8"
           },
           "yaxis": {
            "backgroundcolor": "white",
            "gridcolor": "#DFE8F3",
            "gridwidth": 2,
            "linecolor": "#EBF0F8",
            "showbackground": true,
            "ticks": "",
            "zerolinecolor": "#EBF0F8"
           },
           "zaxis": {
            "backgroundcolor": "white",
            "gridcolor": "#DFE8F3",
            "gridwidth": 2,
            "linecolor": "#EBF0F8",
            "showbackground": true,
            "ticks": "",
            "zerolinecolor": "#EBF0F8"
           }
          },
          "shapedefaults": {
           "line": {
            "color": "#2a3f5f"
           }
          },
          "ternary": {
           "aaxis": {
            "gridcolor": "#DFE8F3",
            "linecolor": "#A2B1C6",
            "ticks": ""
           },
           "baxis": {
            "gridcolor": "#DFE8F3",
            "linecolor": "#A2B1C6",
            "ticks": ""
           },
           "bgcolor": "white",
           "caxis": {
            "gridcolor": "#DFE8F3",
            "linecolor": "#A2B1C6",
            "ticks": ""
           }
          },
          "title": {
           "x": 0.05
          },
          "xaxis": {
           "automargin": true,
           "gridcolor": "#EBF0F8",
           "linecolor": "#EBF0F8",
           "ticks": "",
           "title": {
            "standoff": 15
           },
           "zerolinecolor": "#EBF0F8",
           "zerolinewidth": 2
          },
          "yaxis": {
           "automargin": true,
           "gridcolor": "#EBF0F8",
           "linecolor": "#EBF0F8",
           "ticks": "",
           "title": {
            "standoff": 15
           },
           "zerolinecolor": "#EBF0F8",
           "zerolinewidth": 2
          }
         }
        },
        "title": {
         "text": "Recovered Cases In Each Country"
        }
       }
      },
      "text/html": [
       "<div>                            <div id=\"656de9c4-2bfd-41b7-800f-61f420e29458\" class=\"plotly-graph-div\" style=\"height:525px; width:100%;\"></div>            <script type=\"text/javascript\">                require([\"plotly\"], function(Plotly) {                    window.PLOTLYENV=window.PLOTLYENV || {};                                    if (document.getElementById(\"656de9c4-2bfd-41b7-800f-61f420e29458\")) {                    Plotly.newPlot(                        \"656de9c4-2bfd-41b7-800f-61f420e29458\",                        [{\"coloraxis\": \"coloraxis\", \"geo\": \"geo\", \"hovertemplate\": \"<b>%{hovertext}</b><br><br>Country/Region=%{location}<br>Recovered=%{z}<extra></extra>\", \"hovertext\": [\"US\", \"India\", \"Brazil\", \"France\", \"Russia\", \"Spain\", \"UK\", \"Argentina\", \"Colombia\", \"Italy\", \"Mexico\", \"Peru\", \"Germany\", \"Iran\", \"South Africa\", \"Poland\", \"Ukraine\", \"Belgium\", \"Chile\", \"Iraq\", \"Indonesia\", \"Czech Republic\", \"Netherlands\", \"Bangladesh\", \"Turkey\", \"Philippines\", \"Romania\", \"Pakistan\", \"Saudi Arabia\", \"Israel\", \"Canada\", \"Morocco\", \"Switzerland\", \"Portugal\", \"Nepal\", \"Austria\", \"Ecuador\", \"Sweden\", \"United Arab Emirates\", \"Panama\", \"Jordan\", \"Bolivia\", \"Hungary\", \"Kuwait\", \"Qatar\", \"Dominican Republic\", \"Costa Rica\", \"Kazakhstan\", \"Oman\", \"Japan\", \"Armenia\", \"Guatemala\", \"Belarus\", \"Egypt\", \"Lebanon\", \"Honduras\", \"Ethiopia\", \"Bulgaria\", \"Venezuela\", \"Moldova\", \"Slovakia\", \"China\", \"Bahrain\", \"Serbia\", \"Croatia\", \"Tunisia\", \"Georgia\", \"Azerbaijan\", \"Greece\", \"Libya\", \"Bosnia and Herzegovina\", \"Paraguay\", \"Kenya\", \"Uzbekistan\", \"Burma\", \"Ireland\", \"Algeria\", \"Kyrgyzstan\", \"Nigeria\", \"West Bank and Gaza\", \"Denmark\", \"Singapore\", \"Slovenia\", \"Ghana\", \"Malaysia\", \"North Macedonia\", \"Afghanistan\", \"El Salvador\", \"Lithuania\", \"Kosovo\", \"South Korea\", \"Norway\", \"Albania\", \"Australia\", \"Montenegro\", \"Luxembourg\", \"Cameroon\", \"Ivory Coast\", \"Finland\", \"Madagascar\", \"Sri Lanka\", \"Zambia\", \"Uganda\", \"Senegal\", \"Sudan\", \"Mozambique\", \"Namibia\", \"Angola\", \"Guinea\", \"Maldives\", \"Congo (Kinshasa)\", \"Tajikistan\", \"Latvia\", \"Jamaica\", \"Cabo Verde\", \"Haiti\", \"Gabon\", \"Zimbabwe\", \"Botswana\", \"Malta\", \"Mauritania\", \"Estonia\", \"Cuba\", \"Bahamas\", \"Cyprus\", \"Syria\", \"Eswatini\", \"Trinidad and Tobago\", \"Malawi\", \"Andorra\", \"Nicaragua\", \"Djibouti\", \"Congo (Brazzaville)\", \"Hong Kong\", \"Rwanda\", \"Suriname\", \"Iceland\", \"Equatorial Guinea\", \"Central African Republic\", \"Belize\", \"Guyana\", \"Somalia\", \"Uruguay\", \"Mali\", \"Thailand\", \"Gambia\", \"South Sudan\", \"Benin\", \"Togo\", \"Burkina Faso\", \"Guinea-Bissau\", \"Sierra Leone\", \"Yemen\", \"Lesotho\", \"New Zealand\", \"Chad\", \"Liberia\", \"Niger\", \"Vietnam\", \"San Marino\", \"Liechtenstein\", \"Sao Tome and Principe\", \"Diamond Princess\", \"Burundi\", \"Papua New Guinea\", \"Taiwan\", \"Comoros\", \"Monaco\", \"Tanzania\", \"Eritrea\", \"Mauritius\", \"Mongolia\", \"Bhutan\", \"Cambodia\", \"Barbados\", \"Saint Lucia\", \"Seychelles\", \"Brunei\", \"Antigua and Barbuda\", \"Saint Vincent and the Grenadines\", \"Dominica\", \"Macau\", \"Fiji\", \"Grenada\", \"Timor-Leste\", \"Holy See\", \"Laos\", \"Saint Kitts and Nevis\", \"Solomon Islands\", \"Western Sahara\", \"MS Zaandam\", \"Marshall Islands\", \"Vanuatu\"], \"locationmode\": \"country names\", \"locations\": [\"US\", \"India\", \"Brazil\", \"France\", \"Russia\", \"Spain\", \"UK\", \"Argentina\", \"Colombia\", \"Italy\", \"Mexico\", \"Peru\", \"Germany\", \"Iran\", \"South Africa\", \"Poland\", \"Ukraine\", \"Belgium\", \"Chile\", \"Iraq\", \"Indonesia\", \"Czech Republic\", \"Netherlands\", \"Bangladesh\", \"Turkey\", \"Philippines\", \"Romania\", \"Pakistan\", \"Saudi Arabia\", \"Israel\", \"Canada\", \"Morocco\", \"Switzerland\", \"Portugal\", \"Nepal\", \"Austria\", \"Ecuador\", \"Sweden\", \"United Arab Emirates\", \"Panama\", \"Jordan\", \"Bolivia\", \"Hungary\", \"Kuwait\", \"Qatar\", \"Dominican Republic\", \"Costa Rica\", \"Kazakhstan\", \"Oman\", \"Japan\", \"Armenia\", \"Guatemala\", \"Belarus\", \"Egypt\", \"Lebanon\", \"Honduras\", \"Ethiopia\", \"Bulgaria\", \"Venezuela\", \"Moldova\", \"Slovakia\", \"China\", \"Bahrain\", \"Serbia\", \"Croatia\", \"Tunisia\", \"Georgia\", \"Azerbaijan\", \"Greece\", \"Libya\", \"Bosnia and Herzegovina\", \"Paraguay\", \"Kenya\", \"Uzbekistan\", \"Burma\", \"Ireland\", \"Algeria\", \"Kyrgyzstan\", \"Nigeria\", \"West Bank and Gaza\", \"Denmark\", \"Singapore\", \"Slovenia\", \"Ghana\", \"Malaysia\", \"North Macedonia\", \"Afghanistan\", \"El Salvador\", \"Lithuania\", \"Kosovo\", \"South Korea\", \"Norway\", \"Albania\", \"Australia\", \"Montenegro\", \"Luxembourg\", \"Cameroon\", \"Ivory Coast\", \"Finland\", \"Madagascar\", \"Sri Lanka\", \"Zambia\", \"Uganda\", \"Senegal\", \"Sudan\", \"Mozambique\", \"Namibia\", \"Angola\", \"Guinea\", \"Maldives\", \"Congo (Kinshasa)\", \"Tajikistan\", \"Latvia\", \"Jamaica\", \"Cabo Verde\", \"Haiti\", \"Gabon\", \"Zimbabwe\", \"Botswana\", \"Malta\", \"Mauritania\", \"Estonia\", \"Cuba\", \"Bahamas\", \"Cyprus\", \"Syria\", \"Eswatini\", \"Trinidad and Tobago\", \"Malawi\", \"Andorra\", \"Nicaragua\", \"Djibouti\", \"Congo (Brazzaville)\", \"Hong Kong\", \"Rwanda\", \"Suriname\", \"Iceland\", \"Equatorial Guinea\", \"Central African Republic\", \"Belize\", \"Guyana\", \"Somalia\", \"Uruguay\", \"Mali\", \"Thailand\", \"Gambia\", \"South Sudan\", \"Benin\", \"Togo\", \"Burkina Faso\", \"Guinea-Bissau\", \"Sierra Leone\", \"Yemen\", \"Lesotho\", \"New Zealand\", \"Chad\", \"Liberia\", \"Niger\", \"Vietnam\", \"San Marino\", \"Liechtenstein\", \"Sao Tome and Principe\", \"Diamond Princess\", \"Burundi\", \"Papua New Guinea\", \"Taiwan\", \"Comoros\", \"Monaco\", \"Tanzania\", \"Eritrea\", \"Mauritius\", \"Mongolia\", \"Bhutan\", \"Cambodia\", \"Barbados\", \"Saint Lucia\", \"Seychelles\", \"Brunei\", \"Antigua and Barbuda\", \"Saint Vincent and the Grenadines\", \"Dominica\", \"Macau\", \"Fiji\", \"Grenada\", \"Timor-Leste\", \"Holy See\", \"Laos\", \"Saint Kitts and Nevis\", \"Solomon Islands\", \"Western Sahara\", \"MS Zaandam\", \"Marshall Islands\", \"Vanuatu\"], \"name\": \"\", \"type\": \"choropleth\", \"z\": [4174884, 8249579, 5279452, 139760, 1429565, 150376, 3121, 1129102, 1104956, 420810, 750190, 858388, 505714, 558818, 693467, 294783, 251864, 0, 506700, 447039, 391991, 327306, 6448, 349542, 353663, 374329, 243832, 323824, 340304, 313380, 240434, 238598, 141000, 125066, 173430, 125674, 160639, 0, 143252, 125370, 10067, 117137, 31599, 127585, 132784, 109981, 75341, 109944, 111096, 91954, 74984, 104438, 95843, 101046, 60416, 44778, 63866, 29375, 92373, 70812, 30519, 81332, 82469, 0, 66231, 54362, 62061, 55150, 23074, 44133, 35606, 51375, 45766, 67526, 52351, 23364, 44633, 57760, 61073, 54346, 48259, 58029, 34864, 48328, 34785, 27364, 35092, 32721, 7753, 17305, 25759, 11863, 12889, 25468, 17387, 15428, 21510, 20647, 14000, 16592, 11495, 16137, 8038, 15416, 9571, 12505, 12680, 6444, 11151, 11289, 11086, 10973, 1515, 5248, 9220, 7701, 8939, 8096, 5559, 5765, 7524, 4741, 7060, 5323, 2021, 2714, 5779, 5402, 5399, 4747, 4225, 5525, 3887, 5194, 4995, 5148, 4813, 4973, 1924, 2598, 3777, 3330, 3233, 2949, 3721, 3571, 1290, 2515, 1920, 2445, 2255, 1820, 1394, 1056, 1918, 1443, 1314, 1148, 1103, 888, 682, 917, 659, 549, 586, 536, 549, 450, 183, 444, 431, 328, 355, 289, 238, 46, 157, 145, 127, 77, 41, 46, 32, 27, 30, 15, 23, 19, 5, 8, 0, 1, 0]}],                        {\"coloraxis\": {\"colorbar\": {\"title\": {\"text\": \"Recovered\"}}, \"colorscale\": [[0.0, \"rgb(176, 242, 188)\"], [0.16666666666666666, \"rgb(137, 232, 172)\"], [0.3333333333333333, \"rgb(103, 219, 165)\"], [0.5, \"rgb(76, 200, 163)\"], [0.6666666666666666, \"rgb(56, 178, 163)\"], [0.8333333333333334, \"rgb(44, 152, 160)\"], [1.0, \"rgb(37, 125, 152)\"]]}, \"geo\": {\"center\": {}, \"domain\": {\"x\": [0.0, 1.0], \"y\": [0.0, 1.0]}}, \"legend\": {\"tracegroupgap\": 0}, \"margin\": {\"t\": 60}, \"template\": {\"data\": {\"bar\": [{\"error_x\": {\"color\": \"#2a3f5f\"}, \"error_y\": {\"color\": \"#2a3f5f\"}, \"marker\": {\"line\": {\"color\": \"white\", \"width\": 0.5}}, \"type\": \"bar\"}], \"barpolar\": [{\"marker\": {\"line\": {\"color\": \"white\", \"width\": 0.5}}, \"type\": \"barpolar\"}], \"carpet\": [{\"aaxis\": {\"endlinecolor\": \"#2a3f5f\", \"gridcolor\": \"#C8D4E3\", \"linecolor\": \"#C8D4E3\", \"minorgridcolor\": \"#C8D4E3\", \"startlinecolor\": \"#2a3f5f\"}, \"baxis\": {\"endlinecolor\": \"#2a3f5f\", \"gridcolor\": \"#C8D4E3\", \"linecolor\": \"#C8D4E3\", \"minorgridcolor\": \"#C8D4E3\", \"startlinecolor\": \"#2a3f5f\"}, \"type\": \"carpet\"}], \"choropleth\": [{\"colorbar\": {\"outlinewidth\": 0, \"ticks\": \"\"}, \"type\": \"choropleth\"}], \"contour\": [{\"colorbar\": {\"outlinewidth\": 0, \"ticks\": \"\"}, \"colorscale\": [[0.0, \"#0d0887\"], [0.1111111111111111, \"#46039f\"], [0.2222222222222222, \"#7201a8\"], [0.3333333333333333, \"#9c179e\"], [0.4444444444444444, \"#bd3786\"], [0.5555555555555556, \"#d8576b\"], [0.6666666666666666, \"#ed7953\"], [0.7777777777777778, \"#fb9f3a\"], [0.8888888888888888, \"#fdca26\"], [1.0, \"#f0f921\"]], \"type\": \"contour\"}], \"contourcarpet\": [{\"colorbar\": {\"outlinewidth\": 0, \"ticks\": \"\"}, \"type\": \"contourcarpet\"}], \"heatmap\": [{\"colorbar\": {\"outlinewidth\": 0, \"ticks\": \"\"}, \"colorscale\": [[0.0, \"#0d0887\"], [0.1111111111111111, \"#46039f\"], [0.2222222222222222, \"#7201a8\"], [0.3333333333333333, \"#9c179e\"], [0.4444444444444444, \"#bd3786\"], [0.5555555555555556, \"#d8576b\"], [0.6666666666666666, \"#ed7953\"], [0.7777777777777778, \"#fb9f3a\"], [0.8888888888888888, \"#fdca26\"], [1.0, \"#f0f921\"]], \"type\": \"heatmap\"}], \"heatmapgl\": [{\"colorbar\": {\"outlinewidth\": 0, \"ticks\": \"\"}, \"colorscale\": [[0.0, \"#0d0887\"], [0.1111111111111111, \"#46039f\"], [0.2222222222222222, \"#7201a8\"], [0.3333333333333333, \"#9c179e\"], [0.4444444444444444, \"#bd3786\"], [0.5555555555555556, \"#d8576b\"], [0.6666666666666666, \"#ed7953\"], [0.7777777777777778, \"#fb9f3a\"], [0.8888888888888888, \"#fdca26\"], [1.0, \"#f0f921\"]], \"type\": \"heatmapgl\"}], \"histogram\": [{\"marker\": {\"colorbar\": {\"outlinewidth\": 0, \"ticks\": \"\"}}, \"type\": \"histogram\"}], \"histogram2d\": [{\"colorbar\": {\"outlinewidth\": 0, \"ticks\": \"\"}, \"colorscale\": [[0.0, \"#0d0887\"], [0.1111111111111111, \"#46039f\"], [0.2222222222222222, \"#7201a8\"], [0.3333333333333333, \"#9c179e\"], [0.4444444444444444, \"#bd3786\"], [0.5555555555555556, \"#d8576b\"], [0.6666666666666666, \"#ed7953\"], [0.7777777777777778, \"#fb9f3a\"], [0.8888888888888888, \"#fdca26\"], [1.0, \"#f0f921\"]], \"type\": \"histogram2d\"}], \"histogram2dcontour\": [{\"colorbar\": {\"outlinewidth\": 0, \"ticks\": \"\"}, \"colorscale\": [[0.0, \"#0d0887\"], [0.1111111111111111, \"#46039f\"], [0.2222222222222222, \"#7201a8\"], [0.3333333333333333, \"#9c179e\"], [0.4444444444444444, \"#bd3786\"], [0.5555555555555556, \"#d8576b\"], [0.6666666666666666, \"#ed7953\"], [0.7777777777777778, \"#fb9f3a\"], [0.8888888888888888, \"#fdca26\"], [1.0, \"#f0f921\"]], \"type\": \"histogram2dcontour\"}], \"mesh3d\": [{\"colorbar\": {\"outlinewidth\": 0, \"ticks\": \"\"}, \"type\": \"mesh3d\"}], \"parcoords\": [{\"line\": {\"colorbar\": {\"outlinewidth\": 0, \"ticks\": \"\"}}, \"type\": \"parcoords\"}], \"pie\": [{\"automargin\": true, \"type\": \"pie\"}], \"scatter\": [{\"marker\": {\"colorbar\": {\"outlinewidth\": 0, \"ticks\": \"\"}}, \"type\": \"scatter\"}], \"scatter3d\": [{\"line\": {\"colorbar\": {\"outlinewidth\": 0, \"ticks\": \"\"}}, \"marker\": {\"colorbar\": {\"outlinewidth\": 0, \"ticks\": \"\"}}, \"type\": \"scatter3d\"}], \"scattercarpet\": [{\"marker\": {\"colorbar\": {\"outlinewidth\": 0, \"ticks\": \"\"}}, \"type\": \"scattercarpet\"}], \"scattergeo\": [{\"marker\": {\"colorbar\": {\"outlinewidth\": 0, \"ticks\": \"\"}}, \"type\": \"scattergeo\"}], \"scattergl\": [{\"marker\": {\"colorbar\": {\"outlinewidth\": 0, \"ticks\": \"\"}}, \"type\": \"scattergl\"}], \"scattermapbox\": [{\"marker\": {\"colorbar\": {\"outlinewidth\": 0, \"ticks\": \"\"}}, \"type\": \"scattermapbox\"}], \"scatterpolar\": [{\"marker\": {\"colorbar\": {\"outlinewidth\": 0, \"ticks\": \"\"}}, \"type\": \"scatterpolar\"}], \"scatterpolargl\": [{\"marker\": {\"colorbar\": {\"outlinewidth\": 0, \"ticks\": \"\"}}, \"type\": \"scatterpolargl\"}], \"scatterternary\": [{\"marker\": {\"colorbar\": {\"outlinewidth\": 0, \"ticks\": \"\"}}, \"type\": \"scatterternary\"}], \"surface\": [{\"colorbar\": {\"outlinewidth\": 0, \"ticks\": \"\"}, \"colorscale\": [[0.0, \"#0d0887\"], [0.1111111111111111, \"#46039f\"], [0.2222222222222222, \"#7201a8\"], [0.3333333333333333, \"#9c179e\"], [0.4444444444444444, \"#bd3786\"], [0.5555555555555556, \"#d8576b\"], [0.6666666666666666, \"#ed7953\"], [0.7777777777777778, \"#fb9f3a\"], [0.8888888888888888, \"#fdca26\"], [1.0, \"#f0f921\"]], \"type\": \"surface\"}], \"table\": [{\"cells\": {\"fill\": {\"color\": \"#EBF0F8\"}, \"line\": {\"color\": \"white\"}}, \"header\": {\"fill\": {\"color\": \"#C8D4E3\"}, \"line\": {\"color\": \"white\"}}, \"type\": \"table\"}]}, \"layout\": {\"annotationdefaults\": {\"arrowcolor\": \"#2a3f5f\", \"arrowhead\": 0, \"arrowwidth\": 1}, \"autotypenumbers\": \"strict\", \"coloraxis\": {\"colorbar\": {\"outlinewidth\": 0, \"ticks\": \"\"}}, \"colorscale\": {\"diverging\": [[0, \"#8e0152\"], [0.1, \"#c51b7d\"], [0.2, \"#de77ae\"], [0.3, \"#f1b6da\"], [0.4, \"#fde0ef\"], [0.5, \"#f7f7f7\"], [0.6, \"#e6f5d0\"], [0.7, \"#b8e186\"], [0.8, \"#7fbc41\"], [0.9, \"#4d9221\"], [1, \"#276419\"]], \"sequential\": [[0.0, \"#0d0887\"], [0.1111111111111111, \"#46039f\"], [0.2222222222222222, \"#7201a8\"], [0.3333333333333333, \"#9c179e\"], [0.4444444444444444, \"#bd3786\"], [0.5555555555555556, \"#d8576b\"], [0.6666666666666666, \"#ed7953\"], [0.7777777777777778, \"#fb9f3a\"], [0.8888888888888888, \"#fdca26\"], [1.0, \"#f0f921\"]], \"sequentialminus\": [[0.0, \"#0d0887\"], [0.1111111111111111, \"#46039f\"], [0.2222222222222222, \"#7201a8\"], [0.3333333333333333, \"#9c179e\"], [0.4444444444444444, \"#bd3786\"], [0.5555555555555556, \"#d8576b\"], [0.6666666666666666, \"#ed7953\"], [0.7777777777777778, \"#fb9f3a\"], [0.8888888888888888, \"#fdca26\"], [1.0, \"#f0f921\"]]}, \"colorway\": [\"#636efa\", \"#EF553B\", \"#00cc96\", \"#ab63fa\", \"#FFA15A\", \"#19d3f3\", \"#FF6692\", \"#B6E880\", \"#FF97FF\", \"#FECB52\"], \"font\": {\"color\": \"#2a3f5f\"}, \"geo\": {\"bgcolor\": \"white\", \"lakecolor\": \"white\", \"landcolor\": \"white\", \"showlakes\": true, \"showland\": true, \"subunitcolor\": \"#C8D4E3\"}, \"hoverlabel\": {\"align\": \"left\"}, \"hovermode\": \"closest\", \"mapbox\": {\"style\": \"light\"}, \"paper_bgcolor\": \"white\", \"plot_bgcolor\": \"white\", \"polar\": {\"angularaxis\": {\"gridcolor\": \"#EBF0F8\", \"linecolor\": \"#EBF0F8\", \"ticks\": \"\"}, \"bgcolor\": \"white\", \"radialaxis\": {\"gridcolor\": \"#EBF0F8\", \"linecolor\": \"#EBF0F8\", \"ticks\": \"\"}}, \"scene\": {\"xaxis\": {\"backgroundcolor\": \"white\", \"gridcolor\": \"#DFE8F3\", \"gridwidth\": 2, \"linecolor\": \"#EBF0F8\", \"showbackground\": true, \"ticks\": \"\", \"zerolinecolor\": \"#EBF0F8\"}, \"yaxis\": {\"backgroundcolor\": \"white\", \"gridcolor\": \"#DFE8F3\", \"gridwidth\": 2, \"linecolor\": \"#EBF0F8\", \"showbackground\": true, \"ticks\": \"\", \"zerolinecolor\": \"#EBF0F8\"}, \"zaxis\": {\"backgroundcolor\": \"white\", \"gridcolor\": \"#DFE8F3\", \"gridwidth\": 2, \"linecolor\": \"#EBF0F8\", \"showbackground\": true, \"ticks\": \"\", \"zerolinecolor\": \"#EBF0F8\"}}, \"shapedefaults\": {\"line\": {\"color\": \"#2a3f5f\"}}, \"ternary\": {\"aaxis\": {\"gridcolor\": \"#DFE8F3\", \"linecolor\": \"#A2B1C6\", \"ticks\": \"\"}, \"baxis\": {\"gridcolor\": \"#DFE8F3\", \"linecolor\": \"#A2B1C6\", \"ticks\": \"\"}, \"bgcolor\": \"white\", \"caxis\": {\"gridcolor\": \"#DFE8F3\", \"linecolor\": \"#A2B1C6\", \"ticks\": \"\"}}, \"title\": {\"x\": 0.05}, \"xaxis\": {\"automargin\": true, \"gridcolor\": \"#EBF0F8\", \"linecolor\": \"#EBF0F8\", \"ticks\": \"\", \"title\": {\"standoff\": 15}, \"zerolinecolor\": \"#EBF0F8\", \"zerolinewidth\": 2}, \"yaxis\": {\"automargin\": true, \"gridcolor\": \"#EBF0F8\", \"linecolor\": \"#EBF0F8\", \"ticks\": \"\", \"title\": {\"standoff\": 15}, \"zerolinecolor\": \"#EBF0F8\", \"zerolinewidth\": 2}}}, \"title\": {\"text\": \"Recovered Cases In Each Country\"}},                        {\"responsive\": true}                    ).then(function(){\n",
       "                            \n",
       "var gd = document.getElementById('656de9c4-2bfd-41b7-800f-61f420e29458');\n",
       "var x = new MutationObserver(function (mutations, observer) {{\n",
       "        var display = window.getComputedStyle(gd).display;\n",
       "        if (!display || display === 'none') {{\n",
       "            console.log([gd, 'removed!']);\n",
       "            Plotly.purge(gd);\n",
       "            observer.disconnect();\n",
       "        }}\n",
       "}});\n",
       "\n",
       "// Listen for the removal of the full notebook cells\n",
       "var notebookContainer = gd.closest('#notebook-container');\n",
       "if (notebookContainer) {{\n",
       "    x.observe(notebookContainer, {childList: true});\n",
       "}}\n",
       "\n",
       "// Listen for the clearing of the current output cell\n",
       "var outputEl = gd.closest('.output');\n",
       "if (outputEl) {{\n",
       "    x.observe(outputEl, {childList: true});\n",
       "}}\n",
       "\n",
       "                        })                };                });            </script>        </div>"
      ]
     },
     "metadata": {},
     "output_type": "display_data"
    }
   ],
   "source": [
    "# Recovered cases\n",
    "fig = px.choropleth(Data_country, locations=Data_country['Country/Region'],\n",
    "                    color=Data_country['Recovered'],locationmode='country names', \n",
    "                    hover_name=Data_country['Country/Region'], \n",
    "                    color_continuous_scale=px.colors.sequential.Tealgrn,template='plotly_white', )\n",
    "fig.update_layout(\n",
    "    title='Recovered Cases In Each Country',\n",
    ")\n",
    "fig.show()"
   ]
  },
  {
   "cell_type": "code",
   "execution_count": null,
   "metadata": {},
   "outputs": [],
   "source": []
  }
 ],
 "metadata": {
  "kernelspec": {
   "display_name": "Python 3",
   "language": "python",
   "name": "python3"
  },
  "language_info": {
   "codemirror_mode": {
    "name": "ipython",
    "version": 3
   },
   "file_extension": ".py",
   "mimetype": "text/x-python",
   "name": "python",
   "nbconvert_exporter": "python",
   "pygments_lexer": "ipython3",
   "version": "3.8.5"
  }
 },
 "nbformat": 4,
 "nbformat_minor": 4
}
